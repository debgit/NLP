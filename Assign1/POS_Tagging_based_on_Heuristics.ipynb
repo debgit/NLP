{
  "nbformat": 4,
  "nbformat_minor": 0,
  "metadata": {
    "colab": {
      "name": "POS_Tagging_based_on_Heuristics.ipynb",
      "provenance": [],
      "collapsed_sections": [],
      "include_colab_link": true
    },
    "kernelspec": {
      "display_name": "Python 3",
      "language": "python",
      "name": "python3"
    }
  },
  "cells": [
    {
      "cell_type": "markdown",
      "metadata": {
        "id": "view-in-github",
        "colab_type": "text"
      },
      "source": [
        "<a href=\"https://colab.research.google.com/github/debgit/NLP/blob/main/Assign1/POS_Tagging_based_on_Heuristics.ipynb\" target=\"_parent\"><img src=\"https://colab.research.google.com/assets/colab-badge.svg\" alt=\"Open In Colab\"/></a>"
      ]
    },
    {
      "cell_type": "markdown",
      "metadata": {
        "id": "mM0Ka5OWjTtn"
      },
      "source": [
        "##Import necessary Libraries"
      ]
    },
    {
      "cell_type": "code",
      "metadata": {
        "id": "I1Tw6x5AherL",
        "outputId": "cde05651-e83d-403d-b693-3bcc14e986e6",
        "colab": {
          "base_uri": "https://localhost:8080/",
          "height": 34
        }
      },
      "source": [
        "mount_drive = True\n",
        "if mount_drive:\n",
        "    from google.colab import drive\n",
        "    drive.mount('/content/gdrive')"
      ],
      "execution_count": null,
      "outputs": [
        {
          "output_type": "stream",
          "text": [
            "Mounted at /content/gdrive\n"
          ],
          "name": "stdout"
        }
      ]
    },
    {
      "cell_type": "code",
      "metadata": {
        "id": "ymEJcHq_hRQc",
        "outputId": "44c5f41c-16aa-431d-83ed-711646c50472",
        "colab": {
          "base_uri": "https://localhost:8080/",
          "height": 50
        }
      },
      "source": [
        "!pip install nltk"
      ],
      "execution_count": null,
      "outputs": [
        {
          "output_type": "stream",
          "text": [
            "Requirement already satisfied: nltk in /usr/local/lib/python3.6/dist-packages (3.2.5)\n",
            "Requirement already satisfied: six in /usr/local/lib/python3.6/dist-packages (from nltk) (1.15.0)\n"
          ],
          "name": "stdout"
        }
      ]
    },
    {
      "cell_type": "code",
      "metadata": {
        "cellView": "both",
        "id": "HUkH-XafjF18",
        "outputId": "aa31dda6-50dd-4074-e73c-fae90f941e12",
        "colab": {
          "base_uri": "https://localhost:8080/",
          "height": 118
        }
      },
      "source": [
        "import nltk\n",
        "from nltk.tokenize import word_tokenize\n",
        "from nltk.tag import pos_tag\n",
        "from nltk.chunk import ne_chunk\n",
        "nltk.download('punkt')\n",
        "nltk.download('averaged_perceptron_tagger')"
      ],
      "execution_count": null,
      "outputs": [
        {
          "output_type": "stream",
          "text": [
            "[nltk_data] Downloading package punkt to /root/nltk_data...\n",
            "[nltk_data]   Unzipping tokenizers/punkt.zip.\n",
            "[nltk_data] Downloading package averaged_perceptron_tagger to\n",
            "[nltk_data]     /root/nltk_data...\n",
            "[nltk_data]   Unzipping taggers/averaged_perceptron_tagger.zip.\n"
          ],
          "name": "stdout"
        },
        {
          "output_type": "execute_result",
          "data": {
            "text/plain": [
              "True"
            ]
          },
          "metadata": {
            "tags": []
          },
          "execution_count": 3
        }
      ]
    },
    {
      "cell_type": "markdown",
      "metadata": {
        "id": "CnfJWQfEjn89"
      },
      "source": [
        "## A sentence under consideration for Information Extraction (NER)"
      ]
    },
    {
      "cell_type": "code",
      "metadata": {
        "id": "1nOjV-QMjlBF"
      },
      "source": [
        "sentence = 'Virat Kohli is an Indian cricketer who currently captains the India national team. A right-handed top-order batsman, Kohli is regarded as one of the best batsmen in the world'"
      ],
      "execution_count": null,
      "outputs": []
    },
    {
      "cell_type": "markdown",
      "metadata": {
        "id": "wwc64Wajjv95"
      },
      "source": [
        "## Apply word tokenization and part-of-speech tagging to the sentence"
      ]
    },
    {
      "cell_type": "code",
      "metadata": {
        "id": "rrJPkc2MjtwW"
      },
      "source": [
        "def preprocess(sent):\n",
        "    sent = word_tokenize(sent) # TOKENIZE THE SENTENCE\n",
        "    sent = pos_tag(sent) # GET POS TAG OF THE SENTENCE\n",
        "    return sent"
      ],
      "execution_count": null,
      "outputs": []
    },
    {
      "cell_type": "code",
      "metadata": {
        "id": "xKv51GotjyZU",
        "outputId": "93206207-d691-4b05-bd44-332a767d32a6",
        "colab": {
          "base_uri": "https://localhost:8080/",
          "height": 538
        }
      },
      "source": [
        "sent = preprocess(sentence)\n",
        "sent ## The output contains word tokens and the part of speech(POS)"
      ],
      "execution_count": null,
      "outputs": [
        {
          "output_type": "execute_result",
          "data": {
            "text/plain": [
              "[('Virat', 'NNP'),\n",
              " ('Kohli', 'NNP'),\n",
              " ('is', 'VBZ'),\n",
              " ('an', 'DT'),\n",
              " ('Indian', 'JJ'),\n",
              " ('cricketer', 'NN'),\n",
              " ('who', 'WP'),\n",
              " ('currently', 'RB'),\n",
              " ('captains', 'VBZ'),\n",
              " ('the', 'DT'),\n",
              " ('India', 'NNP'),\n",
              " ('national', 'JJ'),\n",
              " ('team', 'NN'),\n",
              " ('.', '.'),\n",
              " ('A', 'DT'),\n",
              " ('right-handed', 'JJ'),\n",
              " ('top-order', 'NN'),\n",
              " ('batsman', 'NN'),\n",
              " (',', ','),\n",
              " ('Kohli', 'NNP'),\n",
              " ('is', 'VBZ'),\n",
              " ('regarded', 'VBN'),\n",
              " ('as', 'IN'),\n",
              " ('one', 'CD'),\n",
              " ('of', 'IN'),\n",
              " ('the', 'DT'),\n",
              " ('best', 'JJS'),\n",
              " ('batsmen', 'NNS'),\n",
              " ('in', 'IN'),\n",
              " ('the', 'DT'),\n",
              " ('world', 'NN')]"
            ]
          },
          "metadata": {
            "tags": []
          },
          "execution_count": 6
        }
      ]
    },
    {
      "cell_type": "code",
      "metadata": {
        "id": "surtsIRm-O5H"
      },
      "source": [
        "pos_list=[sent[idx][1] for idx,rec in enumerate(sent)]"
      ],
      "execution_count": null,
      "outputs": []
    },
    {
      "cell_type": "code",
      "metadata": {
        "id": "dE8YlT6AY2Qm"
      },
      "source": [
        "import collections\n",
        "freq_dict=collections.Counter(pos_list) ## Get a dict of tags and tag counts"
      ],
      "execution_count": null,
      "outputs": []
    },
    {
      "cell_type": "code",
      "metadata": {
        "id": "Jr0VF3fSemzd",
        "outputId": "5e83dd79-cfd4-4090-e444-e791d0c4a497",
        "colab": {
          "base_uri": "https://localhost:8080/",
          "height": 118
        }
      },
      "source": [
        "## To know what each tagging means download tagsets first and pass the desired tag as argument to the below function.\n",
        "## if passed none then entire tag set is explained\n",
        "nltk.download('tagsets')\n",
        "nltk.help.upenn_tagset('NNP') ## will explain only JJS,if left blank then entire tag set is explained."
      ],
      "execution_count": null,
      "outputs": [
        {
          "output_type": "stream",
          "text": [
            "[nltk_data] Downloading package tagsets to /root/nltk_data...\n",
            "[nltk_data]   Unzipping help/tagsets.zip.\n",
            "NNP: noun, proper, singular\n",
            "    Motown Venneboerger Czestochwa Ranzer Conchita Trumplane Christos\n",
            "    Oceanside Escobar Kreisler Sawyer Cougar Yvette Ervin ODI Darryl CTCA\n",
            "    Shannon A.K.C. Meltex Liverpool ...\n"
          ],
          "name": "stdout"
        }
      ]
    },
    {
      "cell_type": "code",
      "metadata": {
        "id": "TK-kQOw8fQpB",
        "outputId": "109826cf-3c1b-493b-98a2-0fcf537101c9",
        "colab": {
          "base_uri": "https://localhost:8080/",
          "height": 34
        }
      },
      "source": [
        "## lets also see what are the most common occuring words.\n",
        "most_popular=5\n",
        "collections.Counter(word_tokenize(sentence)).most_common(most_popular)"
      ],
      "execution_count": null,
      "outputs": [
        {
          "output_type": "execute_result",
          "data": {
            "text/plain": [
              "[('the', 3), ('Kohli', 2), ('is', 2), ('Virat', 1), ('an', 1)]"
            ]
          },
          "metadata": {
            "tags": []
          },
          "execution_count": 10
        }
      ]
    },
    {
      "cell_type": "markdown",
      "metadata": {
        "id": "5ZfnCIBOlP32"
      },
      "source": [
        "\n",
        "## Plot a Parse Tree"
      ]
    },
    {
      "cell_type": "code",
      "metadata": {
        "id": "_0JJm0tp3iqY",
        "outputId": "75890d6f-ddbc-4053-c5a7-a05d8289b526",
        "colab": {
          "base_uri": "https://localhost:8080/",
          "height": 69
        }
      },
      "source": [
        " \"\"\"\n",
        " Chunking is a process by which a shallow parsing is done on the obtained POS taggings.\n",
        " the input to chunling is the POS list that contains the word and sentences aling with the POS patterns we want to chunk.\n",
        "? = 0 or 1 match of the preceding expression\n",
        "* = 0 or more match of the preceding expression\n",
        "+ = 1 or more match of the preceding expression  \n",
        ". = specifies any single character except a new line character\n",
        "\"\"\""
      ],
      "execution_count": null,
      "outputs": [
        {
          "output_type": "execute_result",
          "data": {
            "application/vnd.google.colaboratory.intrinsic+json": {
              "type": "string"
            },
            "text/plain": [
              "'\\nChunking is a process by which a shallow parsing is done on the obtained POS taggings.\\nthe input to chunling is the POS list that contains the word and sentences aling with the POS patterns we want to chunk.\\n? = 0 or 1 match of the preceding expression\\n* = 0 or more match of the preceding expression\\n+ = 1 or more match of the preceding expression  \\n. = specifies any single character except a new line character\\n'"
            ]
          },
          "metadata": {
            "tags": []
          },
          "execution_count": 11
        }
      ]
    },
    {
      "cell_type": "code",
      "metadata": {
        "id": "3SFMBOJhj0kD"
      },
      "source": [
        "from nltk import RegexpParser ## import this REgex parser\n",
        "pattern = 'NP: {<DT>?<JJ>*<NN>}' ## here the pattern to be chunked is DT,JJ and NN so only these would be considered to be chunked\n",
        "NPChunker =  RegexpParser(pattern)# Regex Parse using the pattern\n",
        "result_ch = NPChunker.parse(sent)\n",
        "#result.draw()"
      ],
      "execution_count": null,
      "outputs": []
    },
    {
      "cell_type": "code",
      "metadata": {
        "id": "z7JiXp18T56Z",
        "outputId": "bb354232-637a-4320-8440-2a7d8155c405",
        "colab": {
          "base_uri": "https://localhost:8080/",
          "height": 454
        }
      },
      "source": [
        "print(result_ch)"
      ],
      "execution_count": null,
      "outputs": [
        {
          "output_type": "stream",
          "text": [
            "(S\n",
            "  Virat/NNP\n",
            "  Kohli/NNP\n",
            "  is/VBZ\n",
            "  (NP an/DT Indian/JJ cricketer/NN)\n",
            "  who/WP\n",
            "  currently/RB\n",
            "  captains/VBZ\n",
            "  the/DT\n",
            "  India/NNP\n",
            "  (NP national/JJ team/NN)\n",
            "  ./.\n",
            "  (NP A/DT right-handed/JJ top-order/NN)\n",
            "  (NP batsman/NN)\n",
            "  ,/,\n",
            "  Kohli/NNP\n",
            "  is/VBZ\n",
            "  regarded/VBN\n",
            "  as/IN\n",
            "  one/CD\n",
            "  of/IN\n",
            "  the/DT\n",
            "  best/JJS\n",
            "  batsmen/NNS\n",
            "  in/IN\n",
            "  (NP the/DT world/NN))\n"
          ],
          "name": "stdout"
        }
      ]
    },
    {
      "cell_type": "markdown",
      "metadata": {
        "id": "mzfWmM0s3qLQ"
      },
      "source": [
        "## POS Tags"
      ]
    },
    {
      "cell_type": "code",
      "metadata": {
        "id": "6lUv0-IX0V-v",
        "outputId": "a74b352e-5f17-4008-8033-247168a2eb5f",
        "colab": {
          "base_uri": "https://localhost:8080/",
          "height": 538
        }
      },
      "source": [
        "from nltk.chunk import conlltags2tree, tree2conlltags\n",
        "from pprint import pprint\n",
        "iob_tagged = tree2conlltags(result_ch)\n",
        "pprint(iob_tagged)"
      ],
      "execution_count": null,
      "outputs": [
        {
          "output_type": "stream",
          "text": [
            "[('Virat', 'NNP', 'O'),\n",
            " ('Kohli', 'NNP', 'O'),\n",
            " ('is', 'VBZ', 'O'),\n",
            " ('an', 'DT', 'B-NP'),\n",
            " ('Indian', 'JJ', 'I-NP'),\n",
            " ('cricketer', 'NN', 'I-NP'),\n",
            " ('who', 'WP', 'O'),\n",
            " ('currently', 'RB', 'O'),\n",
            " ('captains', 'VBZ', 'O'),\n",
            " ('the', 'DT', 'O'),\n",
            " ('India', 'NNP', 'O'),\n",
            " ('national', 'JJ', 'B-NP'),\n",
            " ('team', 'NN', 'I-NP'),\n",
            " ('.', '.', 'O'),\n",
            " ('A', 'DT', 'B-NP'),\n",
            " ('right-handed', 'JJ', 'I-NP'),\n",
            " ('top-order', 'NN', 'I-NP'),\n",
            " ('batsman', 'NN', 'B-NP'),\n",
            " (',', ',', 'O'),\n",
            " ('Kohli', 'NNP', 'O'),\n",
            " ('is', 'VBZ', 'O'),\n",
            " ('regarded', 'VBN', 'O'),\n",
            " ('as', 'IN', 'O'),\n",
            " ('one', 'CD', 'O'),\n",
            " ('of', 'IN', 'O'),\n",
            " ('the', 'DT', 'O'),\n",
            " ('best', 'JJS', 'O'),\n",
            " ('batsmen', 'NNS', 'O'),\n",
            " ('in', 'IN', 'O'),\n",
            " ('the', 'DT', 'B-NP'),\n",
            " ('world', 'NN', 'I-NP')]\n"
          ],
          "name": "stdout"
        }
      ]
    },
    {
      "cell_type": "markdown",
      "metadata": {
        "id": "GsWTk0dX4DN8"
      },
      "source": [
        "**This is how Information is extracted using heuristics based techniques. Try using another pattern.**"
      ]
    },
    {
      "cell_type": "code",
      "metadata": {
        "id": "hGPurTlb3tWd",
        "outputId": "6de72833-1b47-4439-d5c7-14282f749a43",
        "colab": {
          "base_uri": "https://localhost:8080/",
          "height": 554
        }
      },
      "source": [
        "pattern2 = 'NP2: {<JJ>?<NNP>*<RB>}' ##\n",
        "NPChunker2 =  RegexpParser(pattern2)# Regex Parse using the pattern\n",
        "result_ch2 = NPChunker2.parse(sent)\n",
        "print(result_ch2)"
      ],
      "execution_count": null,
      "outputs": [
        {
          "output_type": "stream",
          "text": [
            "(S\n",
            "  Virat/NNP\n",
            "  Kohli/NNP\n",
            "  is/VBZ\n",
            "  an/DT\n",
            "  Indian/JJ\n",
            "  cricketer/NN\n",
            "  who/WP\n",
            "  (NP2 currently/RB)\n",
            "  captains/VBZ\n",
            "  the/DT\n",
            "  India/NNP\n",
            "  national/JJ\n",
            "  team/NN\n",
            "  ./.\n",
            "  A/DT\n",
            "  right-handed/JJ\n",
            "  top-order/NN\n",
            "  batsman/NN\n",
            "  ,/,\n",
            "  Kohli/NNP\n",
            "  is/VBZ\n",
            "  regarded/VBN\n",
            "  as/IN\n",
            "  one/CD\n",
            "  of/IN\n",
            "  the/DT\n",
            "  best/JJS\n",
            "  batsmen/NNS\n",
            "  in/IN\n",
            "  the/DT\n",
            "  world/NN)\n"
          ],
          "name": "stdout"
        }
      ]
    }
  ]
}