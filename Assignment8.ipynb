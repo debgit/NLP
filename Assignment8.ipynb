{
 "cells": [
  {
   "cell_type": "code",
   "execution_count": 1,
   "metadata": {},
   "outputs": [
    {
     "name": "stdout",
     "output_type": "stream",
     "text": [
      "3.7.7 (default, May  6 2020, 11:45:54) [MSC v.1916 64 bit (AMD64)]\n"
     ]
    }
   ],
   "source": [
    "#Write a program to know the version of Python you are using\n",
    "import sys\n",
    "print(sys.version)"
   ]
  },
  {
   "cell_type": "code",
   "execution_count": 2,
   "metadata": {},
   "outputs": [
    {
     "name": "stdout",
     "output_type": "stream",
     "text": [
      "4\n"
     ]
    }
   ],
   "source": [
    "#Write a program to find the number of references pointing to a particular object\n",
    "import sys\n",
    "a = \"JohnShekar\"\n",
    "b = a\n",
    "print(sys.getrefcount(a))"
   ]
  },
  {
   "cell_type": "code",
   "execution_count": 3,
   "metadata": {},
   "outputs": [
    {
     "name": "stdout",
     "output_type": "stream",
     "text": [
      "4\n",
      "3\n",
      "Variable a does not exist anymore\n"
     ]
    }
   ],
   "source": [
    "#Write a program to dispose a variable in Python. \n",
    "import sys\n",
    "a = 'Hello world!!'\n",
    "b = a\n",
    "print(sys.getrefcount(a))\n",
    "del a\n",
    "print(sys.getrefcount(b))\n",
    "try:\n",
    "    print(sys.getrefcount(a))\n",
    "except:\n",
    "    print('Variable a does not exist anymore')"
   ]
  },
  {
   "cell_type": "code",
   "execution_count": 4,
   "metadata": {},
   "outputs": [
    {
     "name": "stdout",
     "output_type": "stream",
     "text": [
      "Enter Number:12\n",
      "12 Not a prime number\n"
     ]
    }
   ],
   "source": [
    "#Write a program to check whether a given number is a prime number\n",
    "A = int(input('Enter Number:'))\n",
    "for j in range(2, int(A**0.5)+1):\n",
    "    if A%j == 0:\n",
    "        print(A, 'Not a prime number')\n",
    "        break\n",
    "else:\n",
    "    print(A, 'This is a prime number')"
   ]
  },
  {
   "cell_type": "code",
   "execution_count": 5,
   "metadata": {},
   "outputs": [
    {
     "name": "stdout",
     "output_type": "stream",
     "text": [
      "Enter a number:13\n",
      "(0,)\n",
      "(1,)\n",
      "(1,)\n",
      "(2,)\n",
      "(3,)\n",
      "(5,)\n",
      "(8,)\n",
      "(13,)\n",
      "(21,)\n",
      "(34,)\n",
      "(55,)\n",
      "(89,)\n",
      "(144,)\n"
     ]
    }
   ],
   "source": [
    "#Write a generator function to generate a Fibonacci series\n",
    "def fibo(Num):\n",
    "    a, b = 0, 1\n",
    "    for I in range(Num):\n",
    "        yield a,\n",
    "        a, b = b, a+b\n",
    "Num = int(input('Enter a number:'))\n",
    "for i in fibo(Num):\n",
    "    print(i)"
   ]
  },
  {
   "cell_type": "code",
   "execution_count": 6,
   "metadata": {},
   "outputs": [
    {
     "name": "stdout",
     "output_type": "stream",
     "text": [
      "5\n",
      "5\n"
     ]
    }
   ],
   "source": [
    "#Write a program to get the last value in a list or a tuple\n",
    "a= [1,2,3,4,5]\n",
    "b= [1,2,3,4,5]\n",
    "print(a[-1])\n",
    "print(b[-1])"
   ]
  },
  {
   "cell_type": "code",
   "execution_count": 7,
   "metadata": {},
   "outputs": [
    {
     "name": "stdout",
     "output_type": "stream",
     "text": [
      "[4, 5, 6, 7, 8]\n"
     ]
    }
   ],
   "source": [
    "#Write a program to access all elements from 4th element in a list\n",
    "a= [1,2,3,4,5,6,7,8]\n",
    "print(a[3:])"
   ]
  },
  {
   "cell_type": "code",
   "execution_count": 8,
   "metadata": {},
   "outputs": [
    {
     "name": "stdout",
     "output_type": "stream",
     "text": [
      "[1, 2, 3, 4, 5]\n"
     ]
    }
   ],
   "source": [
    "#Write a program to access all elements till 3th element from the end in a list\n",
    "a= [1,2,3,4,5,6,7,8]\n",
    "print(a[:-3])"
   ]
  },
  {
   "cell_type": "code",
   "execution_count": 9,
   "metadata": {},
   "outputs": [
    {
     "name": "stdout",
     "output_type": "stream",
     "text": [
      "(4, 5, 6, 7, 8)\n"
     ]
    }
   ],
   "source": [
    "#Write a program to access all elements from 4th element in a tuple\n",
    "a= (1,2,3,4,5,6,7,8)\n",
    "print(a[3:])"
   ]
  },
  {
   "cell_type": "code",
   "execution_count": 10,
   "metadata": {},
   "outputs": [
    {
     "name": "stdout",
     "output_type": "stream",
     "text": [
      "(1, 2, 3, 4, 5)\n"
     ]
    }
   ],
   "source": [
    "#Write a program to access all elements till 3th element from the end in a tuple\n",
    "a= (1,2,3,4,5,6,7,8)\n",
    "print(a[:-3])"
   ]
  },
  {
   "cell_type": "code",
   "execution_count": 11,
   "metadata": {},
   "outputs": [
    {
     "name": "stdout",
     "output_type": "stream",
     "text": [
      "[1, 2, 3, 4, 5, 6, 7, 8, 9, 10, 11]\n"
     ]
    }
   ],
   "source": [
    "#Write a program to merge two list\n",
    "a= [1,2,3,4,5,6,7,8]\n",
    "b = [9,10,11]\n",
    "a.extend(b)\n",
    "print(a)"
   ]
  },
  {
   "cell_type": "code",
   "execution_count": 12,
   "metadata": {},
   "outputs": [
    {
     "name": "stdout",
     "output_type": "stream",
     "text": [
      "[1, 4, 9, 16, 25, 36, 49, 64]\n"
     ]
    }
   ],
   "source": [
    "# Write a program to find the square of each element of a list\n",
    "a= [1,2,3,4,5,6,7,8]\n",
    "b=  [x**2 for x in a]\n",
    "print(b)"
   ]
  },
  {
   "cell_type": "code",
   "execution_count": 13,
   "metadata": {},
   "outputs": [
    {
     "name": "stdout",
     "output_type": "stream",
     "text": [
      "{'a': 1, 'b': 2}\n"
     ]
    }
   ],
   "source": [
    "# Write a program to merge one dictionary with the other\n",
    "a = {'a':1}\n",
    "b = {'b':2}\n",
    "a.update(b)\n",
    "print(a)"
   ]
  },
  {
   "cell_type": "code",
   "execution_count": 14,
   "metadata": {},
   "outputs": [
    {
     "name": "stdout",
     "output_type": "stream",
     "text": [
      "231\n"
     ]
    }
   ],
   "source": [
    "# Write a program to count the number of capital letters in a file\n",
    "with open('JD.txt') as today:\n",
    "    count=0\n",
    "    for i in today.read():\n",
    "        if i.isupper():\n",
    "            count+=1\n",
    "    print(count)"
   ]
  },
  {
   "cell_type": "code",
   "execution_count": 15,
   "metadata": {},
   "outputs": [
    {
     "name": "stdout",
     "output_type": "stream",
     "text": [
      "     *\n",
      "    ***\n",
      "   *****\n",
      "  *******\n",
      " *********\n"
     ]
    }
   ],
   "source": [
    "# Write a program to generate a pyramid\n",
    "def pyramid(n):\n",
    "  for row in range(n):\n",
    "    for space in range(n-row):\n",
    "      print(' ',end='')\n",
    "    for star in range(row):\n",
    "      print('*',end='')\n",
    "    for star in range(row+1):\n",
    "      print('*',end='')\n",
    "    print()\n",
    "pyramid(5)"
   ]
  },
  {
   "cell_type": "code",
   "execution_count": 16,
   "metadata": {},
   "outputs": [
    {
     "data": {
      "text/plain": [
       "True"
      ]
     },
     "execution_count": 16,
     "metadata": {},
     "output_type": "execute_result"
    }
   ],
   "source": [
    "# Write a program to implement palindromes\n",
    "def isPalindrome(string):\n",
    "    left,right=0,len(string)-1\n",
    "    while right>=left:\n",
    "            if not string[left]==string[right]:\n",
    "                     return False\n",
    "            left+=1;right-=1\n",
    "            return True\n",
    "isPalindrome('redrum murder')"
   ]
  },
  {
   "cell_type": "code",
   "execution_count": 17,
   "metadata": {},
   "outputs": [
    {
     "data": {
      "text/plain": [
       "True"
      ]
     },
     "execution_count": 17,
     "metadata": {},
     "output_type": "execute_result"
    }
   ],
   "source": [
    "# Write a program to implement palindromes using an iterator\n",
    "def isPalindrome(string):\n",
    "     left,right=iter(string),iter(string[::-1])\n",
    "     i=0\n",
    "     while i<len(string)/2:\n",
    "            if next(left)!=next(right):\n",
    "                     return False\n",
    "            i+=1\n",
    "            return True\n",
    "isPalindrome('redrum murder')"
   ]
  },
  {
   "cell_type": "code",
   "execution_count": 18,
   "metadata": {},
   "outputs": [
    {
     "name": "stdout",
     "output_type": "stream",
     "text": [
      "True\n",
      "False\n"
     ]
    }
   ],
   "source": [
    "# Write a program to overload operators\n",
    "class fruit:\n",
    "  def __init__(self,type,size):\n",
    "          self.type='fruit'\n",
    "          self.type=type\n",
    "          self.size=size\n",
    "  def __gt__(self,other):\n",
    "          if self.size>other.size:\n",
    "                   return True\n",
    "          return False\n",
    "orange=fruit('orange',7)\n",
    "apple=fruit('apple',8)\n",
    "print(apple>orange)\n",
    "print(orange>apple)"
   ]
  },
  {
   "cell_type": "code",
   "execution_count": 19,
   "metadata": {},
   "outputs": [
    {
     "name": "stdout",
     "output_type": "stream",
     "text": [
      "array('d', [1.1, 2.1, 3.1, 3.4])\n",
      "array('d', [1.1, 2.1, 3.1, 3.4, 4.5, 6.3, 6.8])\n",
      "array('d', [1.1, 2.1, 3.8, 3.1, 3.4, 4.5, 6.3, 6.8])\n"
     ]
    }
   ],
   "source": [
    "# Write a program to add values to a python array\n",
    "from array import array\n",
    "a=array('d', [1.1 , 2.1 ,3.1] )\n",
    "a.append(3.4)\n",
    "print(a)\n",
    "a.extend([4.5,6.3,6.8])\n",
    "print(a)\n",
    "a.insert(2,3.8)\n",
    "print(a)"
   ]
  },
  {
   "cell_type": "code",
   "execution_count": 20,
   "metadata": {},
   "outputs": [
    {
     "name": "stdout",
     "output_type": "stream",
     "text": [
      "4.6\n",
      "3.1\n",
      "array('d', [2.2, 3.8, 3.7, 1.2])\n"
     ]
    }
   ],
   "source": [
    "# Write a program to remove values to a python array\n",
    "from array import array\n",
    "a=array('d', [1.1, 2.2, 3.8, 3.1, 3.7, 1.2, 4.6])\n",
    "print(a.pop())\n",
    "print(a.pop(3))\n",
    "a.remove(1.1)\n",
    "print(a)"
   ]
  },
  {
   "cell_type": "code",
   "execution_count": 21,
   "metadata": {},
   "outputs": [
    {
     "data": {
      "text/plain": [
       "[3, 5, 6, 7, 32, 54, 87]"
      ]
     },
     "execution_count": 21,
     "metadata": {},
     "output_type": "execute_result"
    }
   ],
   "source": [
    "# Write a program to execute the Bubble sort algorithm\n",
    "def bs(a):             # a = name of list\n",
    "    b=len(a)-1         # minus 1 because we always compare 2 adjacent values\n",
    "                             \n",
    "    for x in range(b):\n",
    "        for y in range(b-x):\n",
    "            if a[y]>a[y+1]:\n",
    "                a[y],a[y+1]=a[y+1],a[y]\n",
    "    return a\n",
    "a=[32,5,3,6,7,54,87]\n",
    "bs(a)"
   ]
  },
  {
   "cell_type": "code",
   "execution_count": 22,
   "metadata": {},
   "outputs": [
    {
     "name": "stdout",
     "output_type": "stream",
     "text": [
      "enter number12\n",
      "not prime\n"
     ]
    }
   ],
   "source": [
    "# Write a program to  check if a number is prime.\n",
    "a=int(input(\"enter number\"))     \n",
    "if a>1:\n",
    "    for x in range(2,a):\n",
    "        if(a%x)==0:\n",
    "            print(\"not prime\")\n",
    "            break\n",
    "    else:\n",
    "        print(\"Prime\")\n",
    "else:\n",
    "    print(\"not prime\")"
   ]
  },
  {
   "cell_type": "code",
   "execution_count": 23,
   "metadata": {},
   "outputs": [
    {
     "name": "stdout",
     "output_type": "stream",
     "text": [
      "[0, 1, 4, 6, 9]\n"
     ]
    }
   ],
   "source": [
    "# Write a program to sort a numerical dataset in Python.\n",
    "list = [\"1\", \"4\", \"0\", \"6\", \"9\"]\n",
    "list = [int(i) for i in list]\n",
    "list.sort()\n",
    "print (list)"
   ]
  },
  {
   "cell_type": "code",
   "execution_count": 24,
   "metadata": {},
   "outputs": [
    {
     "name": "stdout",
     "output_type": "stream",
     "text": [
      "4\n",
      "5\n",
      "6\n",
      "7\n",
      "8\n",
      "9\n"
     ]
    }
   ],
   "source": [
    "# Write a program to implement Iterator functionality\n",
    "class Counter:\n",
    "    def __init__(self, low, high):\n",
    "        self.current = low\n",
    "        self.high = high\n",
    "    def __iter__(self):\n",
    "        return self\n",
    "    def __next__(self):\n",
    "        if self.current > self.high:\n",
    "            raise StopIteration\n",
    "        else:\n",
    "            self.current += 1\n",
    "        return self.current\n",
    "for c in Counter(3, 8):\n",
    "    print(c)"
   ]
  },
  {
   "cell_type": "code",
   "execution_count": 25,
   "metadata": {},
   "outputs": [
    {
     "name": "stdout",
     "output_type": "stream",
     "text": [
      "Enter the number of elements to be inserted: 12\n",
      "Enter element: 2\n",
      "Enter element: 3\n",
      "Enter element: 4\n",
      "Enter element: 5\n",
      "Enter element: 6\n",
      "Enter element: 7\n",
      "Enter element: 8\n",
      "Enter element: 9\n",
      "Enter element: 1\n",
      "Enter element: 3\n",
      "Enter element: 3\n",
      "Enter element: 4\n",
      "Average of elements in the list 4.58\n"
     ]
    }
   ],
   "source": [
    "# Write a program to  find the average of numbers in a list in Python\n",
    "n=int(input(\"Enter the number of elements to be inserted: \"))\n",
    "b=0\n",
    "for i in range(0,n):\n",
    "    elem=int(input(\"Enter element: \"))\n",
    "    b= b+ elem\n",
    "avg=b/n\n",
    "print(\"Average of elements in the list\",round(avg,2))"
   ]
  },
  {
   "cell_type": "code",
   "execution_count": 26,
   "metadata": {},
   "outputs": [
    {
     "name": "stdout",
     "output_type": "stream",
     "text": [
      "Enter number: 5\n",
      "The reverse of the number: 5\n"
     ]
    }
   ],
   "source": [
    "# Write a program to reverse a number in Python\n",
    "n=int(input(\"Enter number: \"))\n",
    "rev=0\n",
    "while(n>0):\n",
    "    dig=n%10\n",
    "    rev=rev*10+dig\n",
    "    n=n//10\n",
    "print(\"The reverse of the number:\",rev)"
   ]
  },
  {
   "cell_type": "code",
   "execution_count": 27,
   "metadata": {},
   "outputs": [
    {
     "name": "stdout",
     "output_type": "stream",
     "text": [
      "Enter a number:1\n",
      "The total sum of digits is: 1\n"
     ]
    }
   ],
   "source": [
    "# Write a program to find the sum of the digits of a number in Python\n",
    "n=int(input(\"Enter a number:\"))\n",
    "tot=0\n",
    "while(n>0):\n",
    "    dig=n%10\n",
    "    tot=tot+dig\n",
    "    n=n//10\n",
    "print(\"The total sum of digits is:\",tot)"
   ]
  },
  {
   "cell_type": "code",
   "execution_count": 28,
   "metadata": {},
   "outputs": [
    {
     "name": "stdout",
     "output_type": "stream",
     "text": [
      "Enter number:2\n",
      "The number of digits in the number is: 1\n"
     ]
    }
   ],
   "source": [
    "# Write a program to Count the Number of Digits in a Number\n",
    "n=int(input(\"Enter number:\"))\n",
    "count=0\n",
    "while(n>0):\n",
    "    count=count+1\n",
    "    n=n//10\n",
    "print(\"The number of digits in the number is:\",count)"
   ]
  },
  {
   "cell_type": "code",
   "execution_count": 29,
   "metadata": {},
   "outputs": [
    {
     "name": "stdout",
     "output_type": "stream",
     "text": [
      "Enter the number to print the tables for:3\n",
      "3 x 1 = 3\n",
      "3 x 2 = 6\n",
      "3 x 3 = 9\n",
      "3 x 4 = 12\n",
      "3 x 5 = 15\n",
      "3 x 6 = 18\n",
      "3 x 7 = 21\n",
      "3 x 8 = 24\n",
      "3 x 9 = 27\n",
      "3 x 10 = 30\n"
     ]
    }
   ],
   "source": [
    "# Write a program to Print Table of a Given Number\n",
    "n=int(input(\"Enter the number to print the tables for:\"))\n",
    "for i in range(1,11):\n",
    "    print(n,\"x\",i,\"=\",n*i)"
   ]
  },
  {
   "cell_type": "code",
   "execution_count": 30,
   "metadata": {},
   "outputs": [
    {
     "name": "stdout",
     "output_type": "stream",
     "text": [
      "Enter any number: 3\n",
      "The number is not a Perfect number!\n"
     ]
    }
   ],
   "source": [
    "# Write a program to Check if a Number is a Perfect Number\n",
    "n = int(input(\"Enter any number: \"))\n",
    "sum1 = 0\n",
    "for i in range(1, n):\n",
    "    if(n % i == 0):\n",
    "        sum1 = sum1 + i\n",
    "if (sum1 == n):\n",
    "    print(\"The number is a Perfect number!\")\n",
    "else:\n",
    "    print(\"The number is not a Perfect number!\")"
   ]
  },
  {
   "cell_type": "code",
   "execution_count": 31,
   "metadata": {},
   "outputs": [
    {
     "name": "stdout",
     "output_type": "stream",
     "text": [
      "Enter a number:2\n",
      "The number is not a strong number\n"
     ]
    }
   ],
   "source": [
    "# Write a program to Check if a Number is a Strong Number\n",
    "sum1=0\n",
    "num=int(input(\"Enter a number:\"))\n",
    "temp=num\n",
    "while(num):\n",
    "    i=1\n",
    "    f=1\n",
    "    r=num%10\n",
    "    while(i<=r):\n",
    "        f=f*i\n",
    "        i=i+1\n",
    "        sum1=sum1+f\n",
    "        num=num//10\n",
    "if(sum1==temp):\n",
    "    print(\"The number is a strong number\")\n",
    "else:\n",
    "    print(\"The number is not a strong number\")"
   ]
  },
  {
   "cell_type": "code",
   "execution_count": 32,
   "metadata": {},
   "outputs": [
    {
     "name": "stdout",
     "output_type": "stream",
     "text": [
      "Enter number of elements:2\n",
      "Enter element:1\n",
      "Enter element:2\n",
      "Second largest element is: 1\n"
     ]
    }
   ],
   "source": [
    "# Write a program to  Find the Second Largest Number in a List\n",
    "a=[]\n",
    "n=int(input(\"Enter number of elements:\"))\n",
    "for i in range(1,n+1):\n",
    "    b=int(input(\"Enter element:\"))\n",
    "    a.append(b)\n",
    "    a.sort()\n",
    "print(\"Second largest element is:\",a[n-2])"
   ]
  },
  {
   "cell_type": "code",
   "execution_count": 33,
   "metadata": {},
   "outputs": [
    {
     "name": "stdout",
     "output_type": "stream",
     "text": [
      "Enter the number of elements in list:2\n",
      "Enter element1:3\n",
      "Enter element2:5\n",
      "New list is:\n",
      "[5, 3]\n"
     ]
    }
   ],
   "source": [
    "#Write a program to Swap the First and Last Value of a List\n",
    "a=[]\n",
    "n= int(input(\"Enter the number of elements in list:\"))\n",
    "for x in range(0,n):\n",
    "    element=int(input(\"Enter element\" + str(x+1) + \":\"))\n",
    "    a.append(element)\n",
    "temp=a[0]\n",
    "a[0]=a[n-1]\n",
    "a[n-1]=temp\n",
    "print(\"New list is:\")\n",
    "print(a)"
   ]
  },
  {
   "cell_type": "code",
   "execution_count": 34,
   "metadata": {},
   "outputs": [
    {
     "name": "stdout",
     "output_type": "stream",
     "text": [
      "Enter string:hi\n",
      "Number of vowels are:\n",
      "1\n"
     ]
    }
   ],
   "source": [
    "# Write a program to Count the Number of Vowels in a String\n",
    "string=input(\"Enter string:\")\n",
    "vowels=0\n",
    "for i in string:\n",
    "    if(i=='a' or i=='e' or i=='i' or i=='o' or i=='u' or i=='A' or i=='E' or i=='I' or i=='O' or i=='U'):\n",
    "        vowels=vowels+1\n",
    "print(\"Number of vowels are:\")\n",
    "print(vowels)"
   ]
  },
  {
   "cell_type": "code",
   "execution_count": 35,
   "metadata": {},
   "outputs": [
    {
     "name": "stdout",
     "output_type": "stream",
     "text": [
      "Total number of lines in the text file:  (69, '7.\\t Exposure to Azure Analytics suite is mandatory')\n"
     ]
    }
   ],
   "source": [
    "# Write a program to count the total number of lines in a text file\n",
    "def file_count(fname):\n",
    "    with open(fname) as f:\n",
    "        for i in enumerate(f):\n",
    "            continue\n",
    "    return i\n",
    "print('Total number of lines in the text file: ', file_count('JD.txt'))"
   ]
  },
  {
   "cell_type": "code",
   "execution_count": 36,
   "metadata": {},
   "outputs": [
    {
     "name": "stdout",
     "output_type": "stream",
     "text": [
      "4\n",
      "4\n"
     ]
    }
   ],
   "source": [
    "# Write a program to count number of object created of that class\n",
    "class Base:\n",
    "    numOfInstances = 0 \n",
    "    def __init__(self): \n",
    "        Base.numOfInstances += 1\n",
    "    def getNumInstances(): \n",
    "        print(Base.numOfInstances) \n",
    "    getNumInstances = staticmethod(getNumInstances) \n",
    "class Derived(Base): \n",
    "    def __init__(self):\n",
    "        Base.__init__(self) \n",
    "        b1 = Base() \n",
    "d1 = Derived()\n",
    "d2 = Derived() \n",
    "d1.getNumInstances() \n",
    "Base.getNumInstances()"
   ]
  },
  {
   "cell_type": "code",
   "execution_count": 37,
   "metadata": {},
   "outputs": [
    {
     "name": "stdout",
     "output_type": "stream",
     "text": [
      "Please enter year to check for leap year\n",
      "2010\n",
      "Not Leap Year\n"
     ]
    }
   ],
   "source": [
    "# Write a program to determine either the input year is a leap year or not\n",
    "try:\n",
    "    print('Please enter year to check for leap year')\n",
    "    year = int(input())\n",
    "except ValueError:\n",
    "    print('Please input a valid year')\n",
    "    exit(1)\n",
    "\n",
    "if year % 400 == 0:\n",
    "    print('Leap Year')\n",
    "elif year % 100 == 0:\n",
    "    print('Not Leap Year')\n",
    "elif year % 4 == 0:\n",
    "    print('Leap Year')\n",
    "else:\n",
    "    print('Not Leap Year')\n"
   ]
  },
  {
   "cell_type": "code",
   "execution_count": 38,
   "metadata": {},
   "outputs": [
    {
     "name": "stdout",
     "output_type": "stream",
     "text": [
      "The principal is 8\n",
      "The time period is 6\n",
      "The rate of interest is 8\n",
      "The Simple Interest is 3.84\n"
     ]
    },
    {
     "data": {
      "text/plain": [
       "3.84"
      ]
     },
     "execution_count": 38,
     "metadata": {},
     "output_type": "execute_result"
    }
   ],
   "source": [
    "# Write a program to  find simple interest \n",
    "def simple_interest(p,t,r): \n",
    "    print('The principal is', p) \n",
    "    print('The time period is', t) \n",
    "    print('The rate of interest is',r) \n",
    "      \n",
    "    si = (p * t * r)/100\n",
    "      \n",
    "    print('The Simple Interest is', si) \n",
    "    return si \n",
    "      \n",
    "# Driver code \n",
    "simple_interest(8, 6, 8) "
   ]
  },
  {
   "cell_type": "code",
   "execution_count": 39,
   "metadata": {},
   "outputs": [
    {
     "name": "stdout",
     "output_type": "stream",
     "text": [
      "Compound interest is 6288.946267774416\n"
     ]
    }
   ],
   "source": [
    "# Write a program to find compound interest for given values\n",
    "def compound_interest(principle, rate, time): \n",
    "  \n",
    "    # Calculates compound interest  \n",
    "    Amount = principle * (pow((1 + rate / 100), time)) \n",
    "    CI = Amount - principle \n",
    "    print(\"Compound interest is\", CI) \n",
    "  \n",
    "# Driver Code  \n",
    "compound_interest(10000, 10.25, 5)\n"
   ]
  },
  {
   "cell_type": "code",
   "execution_count": 40,
   "metadata": {},
   "outputs": [
    {
     "name": "stdout",
     "output_type": "stream",
     "text": [
      "True\n",
      "False\n"
     ]
    }
   ],
   "source": [
    "# Write a program to check Armstrong Number\n",
    "def power(x, y):       \n",
    "    if y == 0: \n",
    "        return 1\n",
    "    if y % 2 == 0: \n",
    "        return power(x, y // 2) * power(x, y // 2) \n",
    "    return x * power(x, y // 2) * power(x, y // 2) \n",
    "def order(x): \n",
    "    n = 0\n",
    "    while (x != 0): \n",
    "        n = n + 1\n",
    "        x = x // 10\n",
    "    return n \n",
    "def isArmstrong(x):       \n",
    "    n = order(x) \n",
    "    temp = x \n",
    "    sum1 = 0\n",
    "    while (temp != 0): \n",
    "        r = temp % 10\n",
    "        sum1 = sum1 + power(r, n) \n",
    "        temp = temp // 10\n",
    "    return (sum1 == x)\n",
    "x = 153\n",
    "print(isArmstrong(x)) \n",
    "x = 1253\n",
    "print(isArmstrong(x))"
   ]
  },
  {
   "cell_type": "code",
   "execution_count": 41,
   "metadata": {},
   "outputs": [
    {
     "name": "stdout",
     "output_type": "stream",
     "text": [
      "Area is 78.550000\n"
     ]
    }
   ],
   "source": [
    "# Write a program to find area of a circle\n",
    "def findArea(r): \n",
    "    PI = 3.142\n",
    "    return PI * (r*r); \n",
    "  \n",
    "# Driver method \n",
    "print(\"Area is %.6f\" % findArea(5)); "
   ]
  },
  {
   "cell_type": "code",
   "execution_count": 42,
   "metadata": {},
   "outputs": [
    {
     "name": "stdout",
     "output_type": "stream",
     "text": [
      "1 is a Fibonacci Number\n",
      "2 is a Fibonacci Number\n",
      "3 is a Fibonacci Number\n",
      "4 is a not Fibonacci Number \n",
      "5 is a Fibonacci Number\n",
      "6 is a not Fibonacci Number \n",
      "7 is a not Fibonacci Number \n",
      "8 is a Fibonacci Number\n",
      "9 is a not Fibonacci Number \n",
      "10 is a not Fibonacci Number \n"
     ]
    }
   ],
   "source": [
    "# Write a program to check if a given number is Fibonacci number\n",
    "import math \n",
    "  \n",
    "# A utility function that returns true if x is perfect square \n",
    "def isPerfectSquare(x): \n",
    "    s = int(math.sqrt(x)) \n",
    "    return s*s == x \n",
    "  \n",
    "# Returns true if n is a Fibinacci Number, else false \n",
    "def isFibonacci(n): \n",
    "  \n",
    "    # n is Fibinacci if one of 5*n*n + 4 or 5*n*n - 4 or both \n",
    "    # is a perferct square \n",
    "    return isPerfectSquare(5*n*n + 4) or isPerfectSquare(5*n*n - 4) \n",
    "     \n",
    "# A utility function to test above functions \n",
    "for i in range(1,11): \n",
    "     if (isFibonacci(i) == True): \n",
    "         print( i,\"is a Fibonacci Number\")\n",
    "     else: \n",
    "         print(i,\"is a not Fibonacci Number \")"
   ]
  },
  {
   "cell_type": "code",
   "execution_count": 43,
   "metadata": {},
   "outputs": [
    {
     "name": "stdout",
     "output_type": "stream",
     "text": [
      "225\n"
     ]
    }
   ],
   "source": [
    "# Write a program to cube sum of first n natural numbers\n",
    "def sumOfSeries(n): \n",
    "    sum = 0\n",
    "    for i in range(1, n+1): \n",
    "        sum +=i*i*i \n",
    "    return sum\n",
    "n = 5\n",
    "print(sumOfSeries(n)) "
   ]
  },
  {
   "cell_type": "code",
   "execution_count": 44,
   "metadata": {},
   "outputs": [
    {
     "name": "stdout",
     "output_type": "stream",
     "text": [
      "3\n",
      "4\n",
      "5\n",
      "6\n",
      "7\n",
      "1\n",
      "2\n"
     ]
    }
   ],
   "source": [
    "# Write a program to reversal algorithm for array rotation\n",
    "def rverseArray(arr, start, end): \n",
    "    while (start < end): \n",
    "        temp = arr[start] \n",
    "        arr[start] = arr[end] \n",
    "        arr[end] = temp \n",
    "        start += 1\n",
    "        end = end-1\n",
    "  \n",
    "# Function to left rotate arr[] of size n by d \n",
    "def leftRotate(arr, d): \n",
    "    n = len(arr) \n",
    "    rverseArray(arr, 0, d-1) \n",
    "    rverseArray(arr, d, n-1) \n",
    "    rverseArray(arr, 0, n-1) \n",
    "  \n",
    "# Function to print an array \n",
    "def printArray(arr): \n",
    "    for i in range(0, len(arr)): \n",
    "        print (arr[i]) \n",
    "  \n",
    "# Driver function to test above functions \n",
    "arr = [1, 2, 3, 4, 5, 6, 7] \n",
    "leftRotate(arr, 2) # Rotate array by 2 \n",
    "printArray(arr)"
   ]
  },
  {
   "cell_type": "code",
   "execution_count": 45,
   "metadata": {},
   "outputs": [
    {
     "name": "stdout",
     "output_type": "stream",
     "text": [
      "True\n"
     ]
    }
   ],
   "source": [
    "# Write a program to check if given array is Monotonic\n",
    "def isMonotonic(A): \n",
    "  \n",
    "    return (all(A[i] <= A[i + 1] for i in range(len(A) - 1)) or\n",
    "            all(A[i] >= A[i + 1] for i in range(len(A) - 1))) \n",
    "  \n",
    "# Driver program \n",
    "A = [6, 5, 4, 4] \n",
    "  \n",
    "# Print required result \n",
    "print(isMonotonic(A)) "
   ]
  },
  {
   "cell_type": "code",
   "execution_count": 46,
   "metadata": {},
   "outputs": [
    {
     "name": "stdout",
     "output_type": "stream",
     "text": [
      "[15, 14, 13, 12, 11, 10]\n"
     ]
    }
   ],
   "source": [
    "# Write a program to Reverse a List in Python\n",
    "def Reverse(lst): \n",
    "    return [ele for ele in reversed(lst)] \n",
    "      \n",
    "# Driver Code \n",
    "lst = [10, 11, 12, 13, 14, 15] \n",
    "print(Reverse(lst)) "
   ]
  },
  {
   "cell_type": "code",
   "execution_count": 47,
   "metadata": {},
   "outputs": [
    {
     "name": "stdout",
     "output_type": "stream",
     "text": [
      "Largest element is: 99\n"
     ]
    }
   ],
   "source": [
    "# Write a program to find largest number in a list\n",
    "list1 = [10, 20, 4, 45, 99] \n",
    "  \n",
    "# sorting the list \n",
    "list1.sort() \n",
    "  \n",
    "# printing the last element \n",
    "print(\"Largest element is:\", list1[-1]) "
   ]
  },
  {
   "cell_type": "code",
   "execution_count": 48,
   "metadata": {},
   "outputs": [
    {
     "name": "stdout",
     "output_type": "stream",
     "text": [
      "Second highest number is :  45\n"
     ]
    }
   ],
   "source": [
    "# Write a program to find second largest number in a list\n",
    "list1 = [10, 20, 4, 45, 99]\n",
    " \n",
    "mx=max(list1[0],list1[1]) \n",
    "secondmax=min(list1[0],list1[1]) \n",
    "n =len(list1)\n",
    "for i in range(2,n): \n",
    "    if list1[i]>mx: \n",
    "        secondmax=mx\n",
    "        mx=list1[i] \n",
    "    elif list1[i]>secondmax and \\\n",
    "        mx != list1[i]: \n",
    "        secondmax=list1[i]\n",
    " \n",
    "print(\"Second highest number is : \",\\\n",
    "      str(secondmax))"
   ]
  },
  {
   "cell_type": "code",
   "execution_count": 49,
   "metadata": {},
   "outputs": [
    {
     "name": "stdout",
     "output_type": "stream",
     "text": [
      "[85, 41]\n"
     ]
    }
   ],
   "source": [
    "# Write a program to find N largest elements from a list\n",
    "def Nmaxelements(list1, N): \n",
    "    final_list = [] \n",
    "  \n",
    "    for i in range(0, N):  \n",
    "        max1 = 0\n",
    "          \n",
    "        for j in range(len(list1)):      \n",
    "            if list1[j] > max1: \n",
    "                max1 = list1[j]; \n",
    "                  \n",
    "        list1.remove(max1); \n",
    "        final_list.append(max1) \n",
    "          \n",
    "    print(final_list) \n",
    "  \n",
    "# Driver code \n",
    "list1 = [2, 6, 41, 85, 0, 3, 7, 6, 10] \n",
    "N = 2\n",
    "  \n",
    "# Calling the function \n",
    "Nmaxelements(list1, N) "
   ]
  },
  {
   "cell_type": "code",
   "execution_count": 50,
   "metadata": {},
   "outputs": [
    {
     "name": "stdout",
     "output_type": "stream",
     "text": [
      "8 has occurred 5 times\n"
     ]
    }
   ],
   "source": [
    "# Write a program to Count occurrences of an element in a list\n",
    "def countX(lst, x): \n",
    "    count = 0\n",
    "    for ele in lst: \n",
    "        if (ele == x): \n",
    "            count = count + 1\n",
    "    return count \n",
    "  \n",
    "# Driver Code \n",
    "lst = [8, 6, 8, 10, 8, 20, 10, 8, 8] \n",
    "x = 8\n",
    "print('{} has occurred {} times'.format(x, countX(lst, x))) "
   ]
  },
  {
   "cell_type": "code",
   "execution_count": 51,
   "metadata": {},
   "outputs": [
    {
     "name": "stdout",
     "output_type": "stream",
     "text": [
      "['a', 'd', 'h', 'b', 'c', 'e', 'i', 'f', 'g']\n",
      "['g', 'k', 'r', 'e', 'e', 'g', 's', 'f', 'o']\n"
     ]
    }
   ],
   "source": [
    "# Write a program to Sort the values of first list using second list in Python\n",
    "def sort_list(list1, list2):\n",
    " \n",
    "    zipped_pairs = zip(list2, list1)\n",
    " \n",
    "    z = [x for _, x in sorted(zipped_pairs)]\n",
    "     \n",
    "    return z\n",
    "     \n",
    " \n",
    "# driver code\n",
    "x = [\"a\", \"b\", \"c\", \"d\", \"e\", \"f\", \"g\", \"h\", \"i\"]\n",
    "y = [ 0,   1,   1,    0,   1,   2,   2,   0,   1]\n",
    " \n",
    "print(sort_list(x, y))\n",
    " \n",
    "x = [\"g\", \"e\", \"e\", \"k\", \"s\", \"f\", \"o\", \"r\", \"g\", \"e\", \"e\", \"k\", \"s\"]\n",
    "y = [ 0,   1,   1,    0,   1,   2,   2,   0,   1]\n",
    " \n",
    "print(sort_list(x, y))"
   ]
  },
  {
   "cell_type": "code",
   "execution_count": 52,
   "metadata": {},
   "outputs": [
    {
     "name": "stdout",
     "output_type": "stream",
     "text": [
      "[114, 160, 60, 27]\n",
      "[74, 97, 73, 14]\n",
      "[119, 157, 112, 23]\n"
     ]
    }
   ],
   "source": [
    "# Write a program to multiply two matrices\n",
    "A = [[12, 7, 3], \n",
    "    [4, 5, 6], \n",
    "    [7, 8, 9]] \n",
    "  \n",
    "# take a 3x4 matrix     \n",
    "B = [[5, 8, 1, 2], \n",
    "    [6, 7, 3, 0], \n",
    "    [4, 5, 9, 1]] \n",
    "      \n",
    "result = [[0, 0, 0, 0], \n",
    "        [0, 0, 0, 0], \n",
    "        [0, 0, 0, 0]] \n",
    "  \n",
    "# iterating by row of A \n",
    "for i in range(len(A)): \n",
    "  \n",
    "    # iterating by coloum by B  \n",
    "    for j in range(len(B[0])): \n",
    "  \n",
    "        # iterating by rows of B \n",
    "        for k in range(len(B)): \n",
    "            result[i][j] += A[i][k] * B[k][j] \n",
    "  \n",
    "for r in result: \n",
    "    print(r) "
   ]
  },
  {
   "cell_type": "code",
   "execution_count": 53,
   "metadata": {},
   "outputs": [
    {
     "name": "stdout",
     "output_type": "stream",
     "text": [
      "The original list : [[1, 4, 5], [7, 3], [4], [46, 7, 3]]\n",
      "The total element product in lists is : 1622880\n"
     ]
    }
   ],
   "source": [
    "# Write a program to demonstrate Matrix Product Using list comprehension + loop \n",
    "def prod(val) : \n",
    "    res = 1 \n",
    "    for ele in val: \n",
    "        res *= ele \n",
    "    return res  \n",
    "  \n",
    "# initializing list \n",
    "test_list = [[1, 4, 5], [7, 3], [4], [46, 7, 3]] \n",
    "  \n",
    "# printing original list \n",
    "print(\"The original list : \" + str(test_list)) \n",
    "  \n",
    "# using list comprehension + loop \n",
    "# Matrix Product \n",
    "res = prod([ele for sub in test_list for ele in sub]) \n",
    "  \n",
    "# print result \n",
    "print(\"The total element product in lists is : \" + str(res)) "
   ]
  },
  {
   "cell_type": "code",
   "execution_count": 54,
   "metadata": {},
   "outputs": [
    {
     "name": "stderr",
     "output_type": "stream",
     "text": [
      "C:\\Users\\desatapa\\Anaconda3\\envs\\vodafone\\lib\\site-packages\\numpy\\_distributor_init.py:32: UserWarning: loaded more than 1 DLL from .libs:\n",
      "C:\\Users\\desatapa\\Anaconda3\\envs\\vodafone\\lib\\site-packages\\numpy\\.libs\\libopenblas.NOIJJG62EMASZI6NYURL6JBKM4EVBGM7.gfortran-win_amd64.dll\n",
      "C:\\Users\\desatapa\\Anaconda3\\envs\\vodafone\\lib\\site-packages\\numpy\\.libs\\libopenblas.QVLO2T66WEPI7JZ63PS3HMOHFEY472BC.gfortran-win_amd64.dll\n",
      "  stacklevel=1)\n"
     ]
    },
    {
     "name": "stdout",
     "output_type": "stream",
     "text": [
      "Printing elements of first matrix\n",
      "[[1 2]\n",
      " [3 4]]\n",
      "Printing elements of second matrix\n",
      "[[4 5]\n",
      " [6 7]]\n",
      "Addition of two matrix\n",
      "[[ 5  7]\n",
      " [ 9 11]]\n"
     ]
    }
   ],
   "source": [
    "# Write a program to Subtracting Matrices in Python\n",
    "import numpy as np \n",
    "A = np.array([[1, 2], [3, 4]]) \n",
    "B = np.array([[4, 5], [6, 7]]) \n",
    "print(\"Printing elements of first matrix\") \n",
    "print(A) \n",
    "print(\"Printing elements of second matrix\") \n",
    "print(B) \n",
    "# adding two matrix \n",
    "print(\"Addition of two matrix\") \n",
    "print(np.add(A, B)) "
   ]
  },
  {
   "cell_type": "code",
   "execution_count": 55,
   "metadata": {},
   "outputs": [
    {
     "name": "stdout",
     "output_type": "stream",
     "text": [
      "[1, 2]\n",
      "[3, 4]\n",
      "[5, 6]\n",
      "\n",
      "\n",
      "[1, 3, 5]\n",
      "[2, 4, 6]\n"
     ]
    }
   ],
   "source": [
    "# Write a program to Transpose a matrix in Single line in Python Using Nested List Comprehension\n",
    "m = [[1,2],[3,4],[5,6]] \n",
    "for row in m : \n",
    "    print(row) \n",
    "rez = [[m[j][i] for j in range(len(m))] for i in range(len(m[0]))] \n",
    "print(\"\\n\") \n",
    "for row in rez: \n",
    "    print(row)"
   ]
  },
  {
   "cell_type": "code",
   "execution_count": 56,
   "metadata": {},
   "outputs": [
    {
     "name": "stdout",
     "output_type": "stream",
     "text": [
      "(1, 2, 3)\n",
      "(4, 5, 6)\n",
      "(7, 8, 9)\n",
      "(10, 11, 12)\n",
      "\n",
      "\n",
      "(1, 4, 7, 10)\n",
      "(2, 5, 8, 11)\n",
      "(3, 6, 9, 12)\n"
     ]
    }
   ],
   "source": [
    "# Write a program to Transpose a matrix in Single line in Python Using zip\n",
    "matrix=[(1,2,3),(4,5,6),(7,8,9),(10,11,12)] \n",
    "for row in matrix: \n",
    "    print(row) \n",
    "print(\"\\n\") \n",
    "t_matrix = zip(*matrix) \n",
    "for row in t_matrix: \n",
    "    print(row)"
   ]
  },
  {
   "cell_type": "code",
   "execution_count": 57,
   "metadata": {},
   "outputs": [
    {
     "name": "stdout",
     "output_type": "stream",
     "text": [
      "The original list : [['Gfg', 'good'], ['is', 'for'], ['Best']]\n",
      "List after column Concatenation : ['GfgisBest', 'goodfor']\n"
     ]
    }
   ],
   "source": [
    "# Write a program to Vertical Concatenation in Matrix\n",
    "test_list = [[\"Gfg\", \"good\"], [\"is\", \"for\"], [\"Best\"]] \n",
    "  \n",
    "# printing original list \n",
    "print(\"The original list : \" + str(test_list)) \n",
    "  \n",
    "# using loop for iteration \n",
    "res = [] \n",
    "N = 0\n",
    "while N != len(test_list): \n",
    "    temp = '' \n",
    "    for idx in test_list: \n",
    "          \n",
    "        # checking for valid index / column \n",
    "        try: temp = temp + idx[N] \n",
    "        except IndexError: pass\n",
    "    res.append(temp) \n",
    "    N = N + 1\n",
    "  \n",
    "res = [ele for ele in res if ele] \n",
    "  \n",
    "# printing result  \n",
    "print(\"List after column Concatenation : \" + str(res)) "
   ]
  },
  {
   "cell_type": "code",
   "execution_count": 58,
   "metadata": {},
   "outputs": [
    {
     "name": "stdout",
     "output_type": "stream",
     "text": [
      "am\n",
      "muskan\n"
     ]
    }
   ],
   "source": [
    "# Write a program to print even length words in a string\n",
    "def printWords(s): \n",
    "      \n",
    "    # split the string  \n",
    "    s = s.split(' ')  \n",
    "      \n",
    "    # iterate in words of string  \n",
    "    for word in s:  \n",
    "          \n",
    "        # if length is even  \n",
    "        if len(word)%2==0: \n",
    "            print(word)  \n",
    "  \n",
    "  \n",
    "# Driver Code  \n",
    "s = \"i am muskan\" \n",
    "printWords(s) "
   ]
  },
  {
   "cell_type": "code",
   "execution_count": 59,
   "metadata": {},
   "outputs": [
    {
     "name": "stdout",
     "output_type": "stream",
     "text": [
      "No. of matching characters are :  5\n"
     ]
    }
   ],
   "source": [
    "# Write a program to Count the Number of matching characters in a pair of string\n",
    "def count(str1, str2):  \n",
    "    c, j = 0, 0\n",
    "      \n",
    "    # loop executes till length of str1 and  \n",
    "    # stores value of str1 character by character  \n",
    "    # and stores in i at each iteration. \n",
    "    for i in str1:     \n",
    "          \n",
    "        # this will check if character extracted from \n",
    "        # str1 is present in str2 or not(str2.find(i) \n",
    "        # return -1 if not found otherwise return the  \n",
    "        # starting occurrence index of that character \n",
    "        # in str2) and j == str1.find(i) is used to  \n",
    "        # avoid the counting of the duplicate characters \n",
    "        # present in str1 found in str2 \n",
    "        if str2.find(i)>= 0 and j == str1.find(i):  \n",
    "            c += 1\n",
    "        j += 1\n",
    "    print ('No. of matching characters are : ', c) \n",
    "  \n",
    "# Main function \n",
    "def main():  \n",
    "    str1 ='aabcddekll12@' # first string \n",
    "    str2 ='bb2211@55k' # second string \n",
    "    count(str1, str2) # calling count function  \n",
    "  \n",
    "# Driver Code \n",
    "if __name__==\"__main__\": \n",
    "    main() "
   ]
  },
  {
   "cell_type": "code",
   "execution_count": 60,
   "metadata": {},
   "outputs": [
    {
     "name": "stdout",
     "output_type": "stream",
     "text": [
      "Without Order =  fgerkso\n",
      "With Order =  geksfor\n"
     ]
    }
   ],
   "source": [
    "# Write a program to Remove all duplicates from a given string in Python\n",
    "from collections import OrderedDict  \n",
    "  \n",
    "# Function to remove all duplicates from string  \n",
    "# and order does not matter  \n",
    "def removeDupWithoutOrder(str):  \n",
    "  \n",
    "    # set() --> A Set is an unordered collection  \n",
    "    #        data type that is iterable, mutable,  \n",
    "    #        and has no duplicate elements.  \n",
    "    # \"\".join() --> It joins two adjacent elements in  \n",
    "    #            iterable with any symbol defined in  \n",
    "    #            \"\" ( double quotes ) and returns a  \n",
    "    #            single string  \n",
    "    return \"\".join(set(str))  \n",
    "  \n",
    "# Function to remove all duplicates from string  \n",
    "# and keep the order of characters same  \n",
    "def removeDupWithOrder(str):  \n",
    "    return \"\".join(OrderedDict.fromkeys(str))  \n",
    "  \n",
    "# Driver program  \n",
    "if __name__ == \"__main__\":  \n",
    "    str = \"geeksforgeeks\"\n",
    "    print (\"Without Order = \",removeDupWithoutOrder(str))  \n",
    "    print (\"With Order = \",removeDupWithOrder(str))  "
   ]
  },
  {
   "cell_type": "code",
   "execution_count": 61,
   "metadata": {},
   "outputs": [
    {
     "name": "stdout",
     "output_type": "stream",
     "text": [
      "The original string is : GeeksforGeeks\n",
      "The maximum of all characters in GeeksforGeeks is : e\n"
     ]
    }
   ],
   "source": [
    "# Write a program to find Maximum frequency character in String\n",
    "test_str = \"GeeksforGeeks\"\n",
    "  \n",
    "# printing original string \n",
    "print (\"The original string is : \" + test_str) \n",
    "  \n",
    "# using naive method to get \n",
    "# Maximum frequency character in String \n",
    "all_freq = {} \n",
    "for i in test_str: \n",
    "    if i in all_freq: \n",
    "        all_freq[i] += 1\n",
    "    else: \n",
    "        all_freq[i] = 1\n",
    "res = max(all_freq, key = all_freq.get)  \n",
    "  \n",
    "# printing result  \n",
    "print (\"The maximum of all characters in GeeksforGeeks is : \" + res) "
   ]
  },
  {
   "cell_type": "code",
   "execution_count": 62,
   "metadata": {},
   "outputs": [
    {
     "name": "stdout",
     "output_type": "stream",
     "text": [
      "The original string is : GeeksforGeeks\n",
      "The minimum of all characters in GeeksforGeeks is : f\n"
     ]
    }
   ],
   "source": [
    "# Write a program to find Least Frequent Character in String\n",
    "test_str = \"GeeksforGeeks\"\n",
    "  \n",
    "# printing original string \n",
    "print (\"The original string is : \" + test_str) \n",
    "  \n",
    "# using naive method to get \n",
    "# Least Frequent Character in String \n",
    "all_freq = {} \n",
    "for i in test_str: \n",
    "    if i in all_freq: \n",
    "        all_freq[i] += 1\n",
    "    else: \n",
    "        all_freq[i] = 1\n",
    "res = min(all_freq, key = all_freq.get)  \n",
    "  \n",
    "# printing result  \n",
    "print (\"The minimum of all characters in GeeksforGeeks is : \" + res) "
   ]
  },
  {
   "cell_type": "code",
   "execution_count": 63,
   "metadata": {},
   "outputs": [
    {
     "name": "stdout",
     "output_type": "stream",
     "text": [
      "Left Rotation :  eksforGeeksGe\n",
      "Right Rotation :  ksGeeksforGee\n"
     ]
    }
   ],
   "source": [
    "# Write a program to slicing in Python to rotate a string\n",
    "def rotate(input,d):  \n",
    "  \n",
    "    # slice string in two parts for left and right  \n",
    "    Lfirst = input[0 : d]  \n",
    "    Lsecond = input[d :]  \n",
    "    Rfirst = input[0 : len(input)-d]  \n",
    "    Rsecond = input[len(input)-d : ]  \n",
    "  \n",
    "    # now concatenate two parts together  \n",
    "    print (\"Left Rotation : \", (Lsecond + Lfirst) ) \n",
    "    print (\"Right Rotation : \", (Rsecond + Rfirst))  \n",
    "  \n",
    "# Driver program  \n",
    "if __name__ == \"__main__\":  \n",
    "    input = 'GeeksforGeeks'\n",
    "    d=2\n",
    "    rotate(input,d) "
   ]
  },
  {
   "cell_type": "code",
   "execution_count": 64,
   "metadata": {},
   "outputs": [
    {
     "name": "stdout",
     "output_type": "stream",
     "text": [
      "The original string is : geeksforgeeks\n",
      "The string after swap : accdsforaccds\n"
     ]
    }
   ],
   "source": [
    "# Write a program to Replace all occurrences of a substring in a string\n",
    "test_str = \"geeksforgeeks\"\n",
    "  \n",
    "# printing original string \n",
    "print(\"The original string is : \" + test_str) \n",
    "  \n",
    "# Swap Binary substring \n",
    "# Using translate() \n",
    "temp = str.maketrans(\"geek\", \"abcd\") \n",
    "test_str = test_str.translate(temp) \n",
    "  \n",
    "# printing result  \n",
    "print(\"The string after swap : \" + test_str)"
   ]
  },
  {
   "cell_type": "code",
   "execution_count": 65,
   "metadata": {},
   "outputs": [
    {
     "name": "stdout",
     "output_type": "stream",
     "text": [
      "The list printed sorting by age in descending order: \n",
      "[{'name': 'Nandini', 'age': 20}, {'name': 'Manjeet', 'age': 20}, {'name': 'Nikhil', 'age': 19}]\n"
     ]
    }
   ],
   "source": [
    "# Write a program to sort list of dictionaries by values in Python – Using lambda function\n",
    "lis = [{ \"name\" : \"Nandini\", \"age\" : 20}, \n",
    "{ \"name\" : \"Manjeet\", \"age\" : 20 },\n",
    "{ \"name\" : \"Nikhil\" , \"age\" : 19 }]\n",
    " \n",
    "# using sorted and lambda to print list sorted\n",
    "# by age \n",
    "\n",
    "# using sorted and lambda to print list sorted\n",
    "# by age in descending order\n",
    "print( \"The list printed sorting by age in descending order: \")\n",
    "print(sorted(lis, key = lambda i: i['age'],reverse=True))"
   ]
  },
  {
   "cell_type": "code",
   "execution_count": 66,
   "metadata": {},
   "outputs": [
    {
     "name": "stdout",
     "output_type": "stream",
     "text": [
      "3\n"
     ]
    }
   ],
   "source": [
    "# Write a program to find the size of largest subset of anagram words\n",
    "from collections import Counter \n",
    "  \n",
    "def maxAnagramSize(input): \n",
    "  \n",
    "    # split input string separated by space \n",
    "    input = input.split(\" \") \n",
    "  \n",
    "    # sort each string in given list of strings \n",
    "    for i in range(0,len(input)): \n",
    "         input[i]=''.join(sorted(input[i])) \n",
    "  \n",
    "    # now create dictionary using counter method \n",
    "    # which will have strings as key and their  \n",
    "    # frequencies as value \n",
    "    freqDict = Counter(input) \n",
    "  \n",
    "    # get maximum value of frequency \n",
    "    print (max(freqDict.values())) \n",
    "  \n",
    "# Driver program \n",
    "if __name__ == \"__main__\": \n",
    "    input = 'ant magenta magnate tan gnamate'\n",
    "    maxAnagramSize(input)"
   ]
  },
  {
   "cell_type": "code",
   "execution_count": 67,
   "metadata": {},
   "outputs": [
    {
     "name": "stdout",
     "output_type": "stream",
     "text": [
      "Python is great and Java also\n"
     ]
    }
   ],
   "source": [
    "# Write a program to Remove all duplicates words from a given sentence\n",
    "from collections import Counter \n",
    "  \n",
    "def remov_duplicates(input): \n",
    "  \n",
    "    # split input string separated by space \n",
    "    input = input.split(\" \") \n",
    "  \n",
    "    # joins two adjacent elements in iterable way \n",
    "    for i in range(0, len(input)): \n",
    "        input[i] = \"\".join(input[i]) \n",
    "  \n",
    "    # now create dictionary using counter method \n",
    "    # which will have strings as key and their  \n",
    "    # frequencies as value \n",
    "    UniqW = Counter(input) \n",
    "  \n",
    "    # joins two adjacent elements in iterable way \n",
    "    s = \" \".join(UniqW.keys()) \n",
    "    print (s) \n",
    "  \n",
    "# Driver program \n",
    "if __name__ == \"__main__\": \n",
    "    input = 'Python is great and Java is also great'\n",
    "    remov_duplicates(input) "
   ]
  },
  {
   "cell_type": "code",
   "execution_count": 68,
   "metadata": {},
   "outputs": [
    {
     "name": "stdout",
     "output_type": "stream",
     "text": [
      "paizwlc\n"
     ]
    }
   ],
   "source": [
    "# Write a program to find mirror characters in a string\n",
    "def mirrorChars(input,k): \n",
    "  \n",
    "    # create dictionary \n",
    "    original = 'abcdefghijklmnopqrstuvwxyz'\n",
    "    reverse = 'zyxwvutsrqponmlkjihgfedcba'\n",
    "    dictChars = dict(zip(original,reverse)) \n",
    "  \n",
    "    # separate out string after length k to change \n",
    "    # characters in mirror \n",
    "    prefix = input[0:k-1] \n",
    "    suffix = input[k-1:] \n",
    "    mirror = '' \n",
    "  \n",
    "    # change into mirror \n",
    "    for i in range(0,len(suffix)): \n",
    "         mirror = mirror + dictChars[suffix[i]] \n",
    "  \n",
    "    # concat prefix and mirrored part \n",
    "    print (prefix+mirror) \n",
    "           \n",
    "# Driver program \n",
    "if __name__ == \"__main__\": \n",
    "    input = 'paradox'\n",
    "    k = 3\n",
    "    mirrorChars(input,k)"
   ]
  },
  {
   "cell_type": "code",
   "execution_count": 69,
   "metadata": {},
   "outputs": [
    {
     "name": "stdout",
     "output_type": "stream",
     "text": [
      " 1 :  5\n",
      " 5 :  2\n",
      " 3 :  3\n",
      " 4 :  3\n",
      " 2 :  4\n"
     ]
    }
   ],
   "source": [
    "# Write a program to Count the frequencies in a list using dictionary in Python\n",
    "def CountFrequency(my_list): \n",
    "  \n",
    "    # Creating an empty dictionary  \n",
    "    freq = {} \n",
    "    for item in my_list: \n",
    "        if (item in freq): \n",
    "            freq[item] += 1\n",
    "        else: \n",
    "            freq[item] = 1\n",
    "  \n",
    "    for key, value in freq.items(): \n",
    "        print (\"% d : % d\"%(key, value)) \n",
    "  \n",
    "# Driver function \n",
    "if __name__ == \"__main__\":  \n",
    "    my_list =[1, 1, 1, 5, 5, 3, 1, 3, 3, 1, 4, 4, 4, 2, 2, 2, 2] \n",
    "  \n",
    "    CountFrequency(my_list)"
   ]
  },
  {
   "cell_type": "code",
   "execution_count": 70,
   "metadata": {},
   "outputs": [
    {
     "name": "stdout",
     "output_type": "stream",
     "text": [
      "[('Geeksforgeeks', 5), ('is', 10), ('a', 15), ('portal', 20), ('for', 24), ('Geeks', 28)]\n"
     ]
    }
   ],
   "source": [
    "# Write Python program to sort a list of tuples by second Item\n",
    "def Sort_Tuple(tup):  \n",
    "      \n",
    "    # getting length of list of tuples \n",
    "    lst = len(tup)  \n",
    "    for i in range(0, lst):  \n",
    "          \n",
    "        for j in range(0, lst-i-1):  \n",
    "            if (tup[j][1] > tup[j + 1][1]):  \n",
    "                temp = tup[j]  \n",
    "                tup[j]= tup[j + 1]  \n",
    "                tup[j + 1]= temp  \n",
    "    return tup  \n",
    "  \n",
    "# Driver Code  \n",
    "tup =[('for', 24), ('is', 10), ('Geeks', 28),  \n",
    "      ('Geeksforgeeks', 5), ('portal', 20), ('a', 15)]  \n",
    "        \n",
    "print(Sort_Tuple(tup)) "
   ]
  },
  {
   "cell_type": "code",
   "execution_count": 71,
   "metadata": {},
   "outputs": [
    {
     "name": "stdout",
     "output_type": "stream",
     "text": [
      "Element is present at index 3\n"
     ]
    }
   ],
   "source": [
    "# Write a program to do Binary Search (Recursive and Iterative)\n",
    "def binary_search(arr, low, high, x): \n",
    "  \n",
    "    # Check base case \n",
    "    if high >= low: \n",
    "  \n",
    "        mid = (high + low) // 2\n",
    "  \n",
    "        # If element is present at the middle itself \n",
    "        if arr[mid] == x: \n",
    "            return mid \n",
    "  \n",
    "        # If element is smaller than mid, then it can only \n",
    "        # be present in left subarray \n",
    "        elif arr[mid] > x: \n",
    "            return binary_search(arr, low, mid - 1, x) \n",
    "  \n",
    "        # Else the element can only be present in right subarray \n",
    "        else: \n",
    "            return binary_search(arr, mid + 1, high, x) \n",
    "  \n",
    "    else: \n",
    "        # Element is not present in the array \n",
    "        return -1\n",
    "  \n",
    "# Test array \n",
    "arr = [ 2, 3, 4, 10, 40 ] \n",
    "x = 10\n",
    "  \n",
    "# Function call \n",
    "result = binary_search(arr, 0, len(arr)-1, x) \n",
    "  \n",
    "if result != -1: \n",
    "    print(\"Element is present at index\", result) \n",
    "else: \n",
    "    print(\"Element is not present in array\") "
   ]
  },
  {
   "cell_type": "code",
   "execution_count": 72,
   "metadata": {},
   "outputs": [
    {
     "name": "stdout",
     "output_type": "stream",
     "text": [
      "Sorted array is:\n",
      "5\n",
      "6\n",
      "11\n",
      "12\n",
      "13\n"
     ]
    }
   ],
   "source": [
    "# Write a program to do Insertion Sort\n",
    "def insertionSort(arr): \n",
    "  \n",
    "    # Traverse through 1 to len(arr) \n",
    "    for i in range(1, len(arr)): \n",
    "  \n",
    "        key = arr[i] \n",
    "  \n",
    "        # Move elements of arr[0..i-1], that are \n",
    "        # greater than key, to one position ahead \n",
    "        # of their current position \n",
    "        j = i-1\n",
    "        while j >=0 and key < arr[j] : \n",
    "                arr[j+1] = arr[j] \n",
    "                j -= 1\n",
    "        arr[j+1] = key \n",
    "  \n",
    "  \n",
    "# Driver code to test above \n",
    "arr = [12, 11, 13, 5, 6] \n",
    "insertionSort(arr) \n",
    "print (\"Sorted array is:\") \n",
    "for i in range(len(arr)): \n",
    "    print (\"%d\" %arr[i])"
   ]
  },
  {
   "cell_type": "code",
   "execution_count": 73,
   "metadata": {},
   "outputs": [
    {
     "name": "stdout",
     "output_type": "stream",
     "text": [
      "Sorted array is:\n",
      "1\n",
      "5\n",
      "7\n",
      "8\n",
      "9\n",
      "10\n"
     ]
    }
   ],
   "source": [
    "# Write a program to QuickSort\n",
    "def partition(arr, low, high):\n",
    "    i = (low-1)         # index of smaller element\n",
    "    pivot = arr[high]     # pivot\n",
    " \n",
    "    for j in range(low, high):\n",
    " \n",
    "        # If current element is smaller than or\n",
    "        # equal to pivot\n",
    "        if arr[j] <= pivot:\n",
    " \n",
    "            # increment index of smaller element\n",
    "            i = i+1\n",
    "            arr[i], arr[j] = arr[j], arr[i]\n",
    " \n",
    "    arr[i+1], arr[high] = arr[high], arr[i+1]\n",
    "    return (i+1)\n",
    " \n",
    "# The main function that implements QuickSort\n",
    "# arr[] --> Array to be sorted,\n",
    "# low  --> Starting index,\n",
    "# high  --> Ending index\n",
    " \n",
    "# Function to do Quick sort\n",
    " \n",
    " \n",
    "def quickSort(arr, low, high):\n",
    "    if len(arr) == 1:\n",
    "        return arr\n",
    "    if low < high:\n",
    " \n",
    "        # pi is partitioning index, arr[p] is now\n",
    "        # at right place\n",
    "        pi = partition(arr, low, high)\n",
    " \n",
    "        # Separately sort elements before\n",
    "        # partition and after partition\n",
    "        quickSort(arr, low, pi-1)\n",
    "        quickSort(arr, pi+1, high)\n",
    " \n",
    " \n",
    "# Driver code to test above\n",
    "arr = [10, 7, 8, 9, 1, 5]\n",
    "n = len(arr)\n",
    "quickSort(arr, 0, n-1)\n",
    "print(\"Sorted array is:\")\n",
    "for i in range(n):\n",
    "    print(\"%d\" % arr[i]),"
   ]
  },
  {
   "cell_type": "code",
   "execution_count": 74,
   "metadata": {},
   "outputs": [
    {
     "name": "stdout",
     "output_type": "stream",
     "text": [
      "Sorted array is:\n",
      "1\n",
      "2\n",
      "2\n",
      "3\n",
      "3\n",
      "3\n",
      "4\n",
      "5\n"
     ]
    }
   ],
   "source": [
    "# Write a program to Iterative Quick Sort\n",
    "def partition(arr,l,h): \n",
    "    i = ( l - 1 ) \n",
    "    x = arr[h] \n",
    "  \n",
    "    for j in range(l , h): \n",
    "        if   arr[j] <= x: \n",
    "  \n",
    "            # increment index of smaller element \n",
    "            i = i+1\n",
    "            arr[i],arr[j] = arr[j],arr[i] \n",
    "  \n",
    "    arr[i+1],arr[h] = arr[h],arr[i+1] \n",
    "    return (i+1) \n",
    "  \n",
    "# Function to do Quick sort \n",
    "# arr[] --> Array to be sorted, \n",
    "# l  --> Starting index, \n",
    "# h  --> Ending index \n",
    "def quickSortIterative(arr,l,h): \n",
    "  \n",
    "    # Create an auxiliary stack \n",
    "    size = h - l + 1\n",
    "    stack = [0] * (size) \n",
    "  \n",
    "    # initialize top of stack \n",
    "    top = -1\n",
    "  \n",
    "    # push initial values of l and h to stack \n",
    "    top = top + 1\n",
    "    stack[top] = l \n",
    "    top = top + 1\n",
    "    stack[top] = h \n",
    "  \n",
    "    # Keep popping from stack while is not empty \n",
    "    while top >= 0: \n",
    "  \n",
    "        # Pop h and l \n",
    "        h = stack[top] \n",
    "        top = top - 1\n",
    "        l = stack[top] \n",
    "        top = top - 1\n",
    "  \n",
    "        # Set pivot element at its correct position in \n",
    "        # sorted array \n",
    "        p = partition( arr, l, h ) \n",
    "  \n",
    "        # If there are elements on left side of pivot, \n",
    "        # then push left side to stack \n",
    "        if p-1 > l: \n",
    "            top = top + 1\n",
    "            stack[top] = l \n",
    "            top = top + 1\n",
    "            stack[top] = p - 1\n",
    "  \n",
    "        # If there are elements on right side of pivot, \n",
    "        # then push right side to stack \n",
    "        if p+1 < h: \n",
    "            top = top + 1\n",
    "            stack[top] = p + 1\n",
    "            top = top + 1\n",
    "            stack[top] = h \n",
    "  \n",
    "# Driver code to test above \n",
    "arr = [4, 3, 5, 2, 1, 3, 2, 3] \n",
    "n = len(arr) \n",
    "quickSortIterative(arr, 0, n-1) \n",
    "print (\"Sorted array is:\") \n",
    "for i in range(n): \n",
    "    print (\"%d\" %arr[i]), "
   ]
  },
  {
   "cell_type": "code",
   "execution_count": 75,
   "metadata": {},
   "outputs": [
    {
     "name": "stdout",
     "output_type": "stream",
     "text": [
      "Sorted array\n",
      "11\n",
      "12\n",
      "22\n",
      "25\n",
      "64\n"
     ]
    }
   ],
   "source": [
    "# Write a program to Selection Sort\n",
    "import sys \n",
    "A = [64, 25, 12, 22, 11] \n",
    "  \n",
    "# Traverse through all array elements \n",
    "for i in range(len(A)): \n",
    "      \n",
    "    # Find the minimum element in remaining  \n",
    "    # unsorted array \n",
    "    min_idx = i \n",
    "    for j in range(i+1, len(A)): \n",
    "        if A[min_idx] > A[j]: \n",
    "            min_idx = j \n",
    "              \n",
    "    # Swap the found minimum element with  \n",
    "    # the first element         \n",
    "    A[i], A[min_idx] = A[min_idx], A[i] \n",
    "  \n",
    "# Driver code to test above \n",
    "print (\"Sorted array\") \n",
    "for i in range(len(A)): \n",
    "    print(\"%d\" %A[i]), "
   ]
  },
  {
   "cell_type": "code",
   "execution_count": 76,
   "metadata": {},
   "outputs": [
    {
     "name": "stdout",
     "output_type": "stream",
     "text": [
      "Sorted array is:\n",
      "11\n",
      "12\n",
      "22\n",
      "25\n",
      "34\n",
      "64\n",
      "90\n"
     ]
    }
   ],
   "source": [
    "# Write a program to Bubble Sort\n",
    "def bubbleSort(arr): \n",
    "    n = len(arr) \n",
    "  \n",
    "    # Traverse through all array elements \n",
    "    for i in range(n-1): \n",
    "    # range(n) also work but outer loop will repeat one time more than needed. \n",
    "  \n",
    "        # Last i elements are already in place \n",
    "        for j in range(0, n-i-1): \n",
    "  \n",
    "            # traverse the array from 0 to n-i-1 \n",
    "            # Swap if the element found is greater \n",
    "            # than the next element \n",
    "            if arr[j] > arr[j+1] : \n",
    "                arr[j], arr[j+1] = arr[j+1], arr[j] \n",
    "  \n",
    "# Driver code to test above \n",
    "arr = [64, 34, 25, 12, 22, 11, 90] \n",
    "  \n",
    "bubbleSort(arr) \n",
    "  \n",
    "print (\"Sorted array is:\") \n",
    "for i in range(len(arr)): \n",
    "    print (\"%d\" %arr[i]), "
   ]
  },
  {
   "cell_type": "code",
   "execution_count": 77,
   "metadata": {},
   "outputs": [
    {
     "name": "stdout",
     "output_type": "stream",
     "text": [
      "Given array is\n",
      "12\n",
      "11\n",
      "13\n",
      "5\n",
      "6\n",
      "7\n",
      "\n",
      "\n",
      "Sorted array is\n",
      "5\n",
      "6\n",
      "7\n",
      "11\n",
      "12\n",
      "13\n"
     ]
    }
   ],
   "source": [
    "# Write a program to Merge Sort\n",
    "def merge(arr, l, m, r): \n",
    "    n1 = m - l + 1\n",
    "    n2 = r- m \n",
    "  \n",
    "    # create temp arrays \n",
    "    L = [0] * (n1) \n",
    "    R = [0] * (n2) \n",
    "  \n",
    "    # Copy data to temp arrays L[] and R[] \n",
    "    for i in range(0 , n1): \n",
    "        L[i] = arr[l + i] \n",
    "  \n",
    "    for j in range(0 , n2): \n",
    "        R[j] = arr[m + 1 + j] \n",
    "  \n",
    "    # Merge the temp arrays back into arr[l..r] \n",
    "    i = 0     # Initial index of first subarray \n",
    "    j = 0     # Initial index of second subarray \n",
    "    k = l     # Initial index of merged subarray \n",
    "  \n",
    "    while i < n1 and j < n2 : \n",
    "        if L[i] <= R[j]: \n",
    "            arr[k] = L[i] \n",
    "            i += 1\n",
    "        else: \n",
    "            arr[k] = R[j] \n",
    "            j += 1\n",
    "        k += 1\n",
    "  \n",
    "    # Copy the remaining elements of L[], if there \n",
    "    # are any \n",
    "    while i < n1: \n",
    "        arr[k] = L[i] \n",
    "        i += 1\n",
    "        k += 1\n",
    "  \n",
    "    # Copy the remaining elements of R[], if there \n",
    "    # are any \n",
    "    while j < n2: \n",
    "        arr[k] = R[j] \n",
    "        j += 1\n",
    "        k += 1\n",
    "  \n",
    "# l is for left index and r is right index of the \n",
    "# sub-array of arr to be sorted \n",
    "def mergeSort(arr,l,r): \n",
    "    if l < r: \n",
    "  \n",
    "        # Same as (l+r)//2, but avoids overflow for \n",
    "        # large l and h \n",
    "        m = (l+(r-1))//2\n",
    "  \n",
    "        # Sort first and second halves \n",
    "        mergeSort(arr, l, m) \n",
    "        mergeSort(arr, m+1, r) \n",
    "        merge(arr, l, m, r) \n",
    "  \n",
    "  \n",
    "# Driver code to test above \n",
    "arr = [12, 11, 13, 5, 6, 7] \n",
    "n = len(arr) \n",
    "print (\"Given array is\") \n",
    "for i in range(n): \n",
    "    print (\"%d\" %arr[i]), \n",
    "  \n",
    "mergeSort(arr,0,n-1) \n",
    "print (\"\\n\\nSorted array is\") \n",
    "for i in range(n): \n",
    "    print (\"%d\" %arr[i]), "
   ]
  },
  {
   "cell_type": "code",
   "execution_count": 78,
   "metadata": {},
   "outputs": [
    {
     "name": "stdout",
     "output_type": "stream",
     "text": [
      "Sorted array is\n",
      "5\n",
      "6\n",
      "7\n",
      "11\n",
      "12\n",
      "13\n"
     ]
    }
   ],
   "source": [
    "# Write a program to Heap Sort\n",
    "def heapify(arr, n, i): \n",
    "    largest = i  # Initialize largest as root \n",
    "    l = 2 * i + 1     # left = 2*i + 1 \n",
    "    r = 2 * i + 2     # right = 2*i + 2 \n",
    "  \n",
    "    # See if left child of root exists and is \n",
    "    # greater than root \n",
    "    if l < n and arr[i] < arr[l]: \n",
    "        largest = l \n",
    "  \n",
    "    # See if right child of root exists and is \n",
    "    # greater than root \n",
    "    if r < n and arr[largest] < arr[r]: \n",
    "        largest = r \n",
    "  \n",
    "    # Change root, if needed \n",
    "    if largest != i: \n",
    "        arr[i],arr[largest] = arr[largest],arr[i]  # swap \n",
    "  \n",
    "        # Heapify the root. \n",
    "        heapify(arr, n, largest) \n",
    "  \n",
    "# The main function to sort an array of given size \n",
    "def heapSort(arr): \n",
    "    n = len(arr) \n",
    "  \n",
    "    # Build a maxheap. \n",
    "    # Since last parent will be at ((n//2)-1) we can start at that location. \n",
    "    for i in range(n // 2 - 1, -1, -1): \n",
    "        heapify(arr, n, i) \n",
    "  \n",
    "    # One by one extract elements \n",
    "    for i in range(n-1, 0, -1): \n",
    "        arr[i], arr[0] = arr[0], arr[i]   # swap \n",
    "        heapify(arr, i, 0) \n",
    "  \n",
    "# Driver code to test above \n",
    "arr = [ 12, 11, 13, 5, 6, 7] \n",
    "heapSort(arr) \n",
    "n = len(arr) \n",
    "print (\"Sorted array is\") \n",
    "for i in range(n): \n",
    "    print (\"%d\" %arr[i]), "
   ]
  },
  {
   "cell_type": "code",
   "execution_count": 79,
   "metadata": {},
   "outputs": [
    {
     "name": "stdout",
     "output_type": "stream",
     "text": [
      "Sorted character array is eeeefggkkorss\n"
     ]
    }
   ],
   "source": [
    "# Write a program to Counting Sort\n",
    "def countSort(arr):  \n",
    "    output = [0 for i in range(256)] \n",
    "    count = [0 for i in range(256)] \n",
    "    ans = [\"\" for _ in arr] \n",
    "    for i in arr: \n",
    "        count[ord(i)] += 1\n",
    "    for i in range(256): \n",
    "        count[i] += count[i-1] \n",
    "    for i in range(len(arr)): \n",
    "        output[count[ord(arr[i])]-1] = arr[i] \n",
    "        count[ord(arr[i])] -= 1\n",
    "    for i in range(len(arr)): \n",
    "        ans[i] = output[i] \n",
    "    return ans  \n",
    "arr = \"geeksforgeeks\"\n",
    "ans = countSort(arr) \n",
    "print(\"Sorted character array is %s\"  %(\"\".join(ans)))"
   ]
  },
  {
   "cell_type": "code",
   "execution_count": 80,
   "metadata": {},
   "outputs": [
    {
     "name": "stdout",
     "output_type": "stream",
     "text": [
      "2\n",
      "24\n",
      "45\n",
      "66\n",
      "75\n",
      "90\n",
      "170\n",
      "802\n"
     ]
    }
   ],
   "source": [
    "# Write a program to Radix Sort\n",
    "def countingSort(arr, exp1): \n",
    "   \n",
    "    n = len(arr) \n",
    "   \n",
    "    # The output array elements that will have sorted arr \n",
    "    output = [0] * (n) \n",
    "   \n",
    "    # initialize count array as 0 \n",
    "    count = [0] * (10) \n",
    "   \n",
    "    # Store count of occurrences in count[] \n",
    "    for i in range(0, n): \n",
    "        index = (arr[i]/exp1) \n",
    "        count[int((index)%10)] += 1\n",
    "   \n",
    "    # Change count[i] so that count[i] now contains actual \n",
    "    #  position of this digit in output array \n",
    "    for i in range(1,10): \n",
    "        count[i] += count[i-1] \n",
    "   \n",
    "    # Build the output array \n",
    "    i = n-1\n",
    "    while i>=0: \n",
    "        index = (arr[i]/exp1) \n",
    "        output[ count[ int((index)%10) ] - 1] = arr[i] \n",
    "        count[int((index)%10)] -= 1\n",
    "        i -= 1\n",
    "   \n",
    "    # Copying the output array to arr[], \n",
    "    # so that arr now contains sorted numbers \n",
    "    i = 0\n",
    "    for i in range(0,len(arr)): \n",
    "        arr[i] = output[i] \n",
    " \n",
    "# Method to do Radix Sort\n",
    "def radixSort(arr):\n",
    " \n",
    "    # Find the maximum number to know number of digits\n",
    "    max1 = max(arr)\n",
    " \n",
    "    # Do counting sort for every digit. Note that instead\n",
    "    # of passing digit number, exp is passed. exp is 10^i\n",
    "    # where i is current digit number\n",
    "    exp = 1\n",
    "    while max1/exp > 0:\n",
    "        countingSort(arr,exp)\n",
    "        exp *= 10\n",
    " \n",
    "# Driver code to test above\n",
    "arr = [ 170, 45, 75, 90, 802, 24, 2, 66]\n",
    "radixSort(arr)\n",
    " \n",
    "for i in range(len(arr)):\n",
    "    print(arr[i]),"
   ]
  },
  {
   "cell_type": "code",
   "execution_count": 81,
   "metadata": {},
   "outputs": [
    {
     "name": "stdout",
     "output_type": "stream",
     "text": [
      "Sorted array is:\n",
      "0\n",
      "1\n",
      "2\n",
      "2\n",
      "4\n",
      "5\n",
      "8\n"
     ]
    }
   ],
   "source": [
    "# Write a program to Cocktail Sort\n",
    "def cocktailSort(a): \n",
    "    n = len(a) \n",
    "    swapped = True\n",
    "    start = 0\n",
    "    end = n-1\n",
    "    while (swapped==True): \n",
    "  \n",
    "        # reset the swapped flag on entering the loop, \n",
    "        # because it might be true from a previous \n",
    "        # iteration. \n",
    "        swapped = False\n",
    "  \n",
    "        # loop from left to right same as the bubble \n",
    "        # sort \n",
    "        for i in range (start, end): \n",
    "            if (a[i] > a[i+1]) : \n",
    "                a[i], a[i+1]= a[i+1], a[i] \n",
    "                swapped=True\n",
    "  \n",
    "        # if nothing moved, then array is sorted. \n",
    "        if (swapped==False): \n",
    "            break\n",
    "  \n",
    "        # otherwise, reset the swapped flag so that it \n",
    "        # can be used in the next stage \n",
    "        swapped = False\n",
    "  \n",
    "        # move the end point back by one, because \n",
    "        # item at the end is in its rightful spot \n",
    "        end = end-1\n",
    "  \n",
    "        # from right to left, doing the same \n",
    "        # comparison as in the previous stage \n",
    "        for i in range(end-1, start-1,-1): \n",
    "            if (a[i] > a[i+1]): \n",
    "                a[i], a[i+1] = a[i+1], a[i] \n",
    "                swapped = True\n",
    "  \n",
    "        # increase the starting point, because \n",
    "        # the last stage would have moved the next \n",
    "        # smallest number to its rightful spot. \n",
    "        start = start+1\n",
    "  \n",
    "# Driver code to test above \n",
    "a = [5, 1, 4, 2, 8, 0, 2] \n",
    "cocktailSort(a) \n",
    "print(\"Sorted array is:\") \n",
    "for i in range(len(a)): \n",
    "    print (\"%d\" %a[i]), "
   ]
  },
  {
   "cell_type": "code",
   "execution_count": 82,
   "metadata": {},
   "outputs": [
    {
     "name": "stdout",
     "output_type": "stream",
     "text": [
      "Sorted seqquence after applying Gnome Sort :\n",
      "-9\n",
      "2\n",
      "10\n",
      "34\n"
     ]
    }
   ],
   "source": [
    "# Write a program to Gnome sort\n",
    "def gnomeSort( arr, n): \n",
    "    index = 0\n",
    "    while index < n: \n",
    "        if index == 0: \n",
    "            index = index + 1\n",
    "        if arr[index] >= arr[index - 1]: \n",
    "            index = index + 1\n",
    "        else: \n",
    "            arr[index], arr[index-1] = arr[index-1], arr[index] \n",
    "            index = index - 1\n",
    "  \n",
    "    return arr \n",
    "  \n",
    "# Driver Code \n",
    "arr = [ 34, 2, 10, -9] \n",
    "n = len(arr) \n",
    "  \n",
    "arr = gnomeSort(arr, n) \n",
    "print(\"Sorted seqquence after applying Gnome Sort :\", )\n",
    "for i in arr: \n",
    "    print(i) "
   ]
  },
  {
   "cell_type": "code",
   "execution_count": 83,
   "metadata": {},
   "outputs": [
    {
     "name": "stdout",
     "output_type": "stream",
     "text": [
      "-9 2 10 34 "
     ]
    }
   ],
   "source": [
    "# Write a program to Odd-Even Sort / Brick Sort\n",
    "def oddEvenSort(arr, n): \n",
    "    # Initially array is unsorted \n",
    "    isSorted = 0\n",
    "    while isSorted == 0: \n",
    "        isSorted = 1\n",
    "        temp = 0\n",
    "        for i in range(1, n-1, 2): \n",
    "            if arr[i] > arr[i+1]: \n",
    "                arr[i], arr[i+1] = arr[i+1], arr[i] \n",
    "                isSorted = 0\n",
    "                  \n",
    "        for i in range(0, n-1, 2): \n",
    "            if arr[i] > arr[i+1]: \n",
    "                arr[i], arr[i+1] = arr[i+1], arr[i] \n",
    "                isSorted = 0\n",
    "      \n",
    "    return\n",
    "  \n",
    "  \n",
    "arr = [34, 2, 10, -9] \n",
    "n = len(arr) \n",
    "  \n",
    "oddEvenSort(arr, n); \n",
    "for i in range(0, n): \n",
    "    print(arr[i], end =\" \")"
   ]
  },
  {
   "cell_type": "code",
   "execution_count": 84,
   "metadata": {},
   "outputs": [
    {
     "name": "stdout",
     "output_type": "stream",
     "text": [
      "Sorted array :\n",
      "0\n",
      "1\n",
      "2\n",
      "3\n",
      "4\n",
      "5\n"
     ]
    }
   ],
   "source": [
    "# Write a program to BogoSort or Permutation Sort\n",
    "import random \n",
    "  \n",
    "# Sorts array a[0..n-1] using Bogo sort \n",
    "def bogoSort(a): \n",
    "    n = len(a) \n",
    "    while (is_sorted(a)== False): \n",
    "        shuffle(a) \n",
    "  \n",
    "# To check if array is sorted or not \n",
    "def is_sorted(a): \n",
    "    n = len(a) \n",
    "    for i in range(0, n-1): \n",
    "        if (a[i] > a[i+1] ): \n",
    "            return False\n",
    "    return True\n",
    "  \n",
    "# To generate permuatation of the array \n",
    "def shuffle(a): \n",
    "    n = len(a) \n",
    "    for i in range (0,n): \n",
    "        r = random.randint(0,n-1) \n",
    "        a[i], a[r] = a[r], a[i] \n",
    "  \n",
    "# Driver code to test above \n",
    "a = [3, 2, 4, 1, 0, 5] \n",
    "bogoSort(a) \n",
    "print(\"Sorted array :\") \n",
    "for i in range(len(a)): \n",
    "    print (\"%d\" %a[i]),"
   ]
  },
  {
   "cell_type": "code",
   "execution_count": 85,
   "metadata": {},
   "outputs": [
    {
     "name": "stdout",
     "output_type": "stream",
     "text": [
      "After sort : \n",
      "1\n",
      "2\n",
      "3\n",
      "4\n",
      "8\n",
      "9\n",
      "10\n",
      "10\n"
     ]
    }
   ],
   "source": [
    "# Write a program to  Cycle Sort\n",
    "def cycleSort(array): \n",
    "  writes = 0\n",
    "    \n",
    "  # Loop through the array to find cycles to rotate. \n",
    "  for cycleStart in range(0, len(array) - 1): \n",
    "    item = array[cycleStart] \n",
    "      \n",
    "    # Find where to put the item. \n",
    "    pos = cycleStart \n",
    "    for i in range(cycleStart + 1, len(array)): \n",
    "      if array[i] < item: \n",
    "        pos += 1\n",
    "      \n",
    "    # If the item is already there, this is not a cycle. \n",
    "    if pos == cycleStart: \n",
    "      continue\n",
    "      \n",
    "    # Otherwise, put the item there or right after any duplicates. \n",
    "    while item == array[pos]: \n",
    "      pos += 1\n",
    "    array[pos], item = item, array[pos] \n",
    "    writes += 1\n",
    "      \n",
    "    # Rotate the rest of the cycle. \n",
    "    while pos != cycleStart: \n",
    "        \n",
    "      # Find where to put the item. \n",
    "      pos = cycleStart \n",
    "      for i in range(cycleStart + 1, len(array)): \n",
    "        if array[i] < item: \n",
    "          pos += 1\n",
    "        \n",
    "      # Put the item there or right after any duplicates. \n",
    "      while item == array[pos]: \n",
    "        pos += 1\n",
    "      array[pos], item = item, array[pos] \n",
    "      writes += 1\n",
    "    \n",
    "  return writes \n",
    "    \n",
    "#  driver code  \n",
    "arr = [1, 8, 3, 9, 10, 10, 2, 4 ] \n",
    "n = len(arr)  \n",
    "cycleSort(arr) \n",
    "  \n",
    "print(\"After sort : \") \n",
    "for i in range(0, n) :  \n",
    "    print(arr[i] )"
   ]
  },
  {
   "cell_type": "code",
   "execution_count": 86,
   "metadata": {},
   "outputs": [
    {
     "name": "stdout",
     "output_type": "stream",
     "text": [
      "1\n",
      "2\n",
      "3\n",
      "4\n",
      "5\n"
     ]
    }
   ],
   "source": [
    "# Write a program to Stooge Sort\n",
    "def stoogesort(arr, l, h):\n",
    "    if l >= h:\n",
    "        return\n",
    "  \n",
    "    # If first element is smaller\n",
    "    # than last,swap them\n",
    "    if arr[l]>arr[h]:\n",
    "        t = arr[l]\n",
    "        arr[l] = arr[h]\n",
    "        arr[h] = t\n",
    "  \n",
    "    # If there are more than 2 elements in\n",
    "    # the array\n",
    "    if h-l+1 > 2:\n",
    "        t = (int)((h-l+1)/3)\n",
    "  \n",
    "        # Recursively sort first 2/3 elements\n",
    "        stoogesort(arr, l, (h-t))\n",
    "  \n",
    "        # Recursively sort last 2/3 elements\n",
    "        stoogesort(arr, l+t, (h))\n",
    "  \n",
    "        # Recursively sort first 2/3 elements\n",
    "        # again to confirm\n",
    "        stoogesort(arr, l, (h-t))\n",
    "  \n",
    " \n",
    "# deriver \n",
    "arr = [2, 4, 5, 3, 1]\n",
    "n = len(arr)\n",
    " \n",
    "stoogesort(arr, 0, n-1)\n",
    "  \n",
    "for i in range(0, n):\n",
    "    print(arr[i])"
   ]
  },
  {
   "cell_type": "code",
   "execution_count": 87,
   "metadata": {},
   "outputs": [
    {
     "name": "stdout",
     "output_type": "stream",
     "text": [
      "  ***  \n",
      " *     \n",
      " *     \n",
      " * *** \n",
      " *   * \n",
      " *   * \n",
      "  ***  \n",
      "\n"
     ]
    }
   ],
   "source": [
    "# Write a program to print the pattern ‘G’\n",
    "def Pattern(line): \n",
    "    pat=\"\" \n",
    "    for i in range(0,line):     \n",
    "        for j in range(0,line):      \n",
    "            if ((j == 1 and i != 0 and i != line-1) or ((i == 0 or\n",
    "                i == line-1) and j > 1 and j < line-2) or (i == ((line-1)/2) \n",
    "                and j > line-5 and j < line-1) or (j == line-2 and\n",
    "                i != 0 and i != line-1 and i >=((line-1)/2))):   \n",
    "                pat=pat+\"*\"   \n",
    "            else:       \n",
    "                pat=pat+\" \"   \n",
    "        pat=pat+\"\\n\"   \n",
    "    return pat \n",
    "   \n",
    "# Driver Code \n",
    "line = 7\n",
    "print(Pattern(line)) "
   ]
  },
  {
   "cell_type": "code",
   "execution_count": 88,
   "metadata": {},
   "outputs": [
    {
     "name": "stdout",
     "output_type": "stream",
     "text": [
      "***********\n",
      " **********\n",
      "  *********\n",
      "   ********\n",
      "    *******\n",
      "     ******\n",
      "      *****\n",
      "       ****\n",
      "        ***\n",
      "         **\n",
      "          *\n"
     ]
    }
   ],
   "source": [
    "# Write a program to Print an Inverted Star Pattern\n",
    "n=11\n",
    "for i in range (n, 0, -1): \n",
    "    print((n-i) * ' ' + i * '*') "
   ]
  },
  {
   "cell_type": "code",
   "execution_count": 89,
   "metadata": {},
   "outputs": [
    {
     "name": "stdout",
     "output_type": "stream",
     "text": [
      "                 *   * \n",
      "                 *   * \n",
      "             *   *   *   * \n",
      "             *   *   *   * \n",
      "         *   *   *   *   *   * \n",
      "         *   *   *   *   *   * \n",
      "     *   *   *   *   *   *   *   * \n",
      "     *   *   *   *   *   *   *   * \n",
      " *   *   *   *   *   *   *   *   *   * \n",
      " *   *   *   *   *   *   *   *   *   * \n"
     ]
    }
   ],
   "source": [
    "# Write a program to print double sided stair-case pattern\n",
    "def pattern(n): \n",
    "  \n",
    "    # for loop for rows \n",
    "    for i in range(1,n+1): \n",
    "  \n",
    "        # conditional operator \n",
    "        k =i + 1 if(i % 2 != 0) else i \n",
    "  \n",
    "        # for loop for printing spaces \n",
    "        for g in range(k,n): \n",
    "            if g>=k: \n",
    "                print(end=\"  \") \n",
    "  \n",
    "        # according to value of k carry \n",
    "        # out further operation \n",
    "        for j in range(0,k): \n",
    "            if j == k - 1: \n",
    "                print(\" * \") \n",
    "            else: \n",
    "                print(\" * \", end = \" \") \n",
    "  \n",
    "  \n",
    "# Driver code \n",
    "n = 10\n",
    "pattern(n) "
   ]
  },
  {
   "cell_type": "code",
   "execution_count": 90,
   "metadata": {},
   "outputs": [
    {
     "name": "stdout",
     "output_type": "stream",
     "text": [
      "2 : 25\n",
      "3 : 31\n",
      "Both are same times\n"
     ]
    }
   ],
   "source": [
    "# Write a program to ind difference between current time and given time\n",
    "def difference(h1, m1, h2, m2): \n",
    "      \n",
    "    # convert h1 : m1 into \n",
    "    # minutes \n",
    "    t1 = h1 * 60 + m1 \n",
    "      \n",
    "    # convert h2 : m2 into \n",
    "    # minutes  \n",
    "    t2 = h2 * 60 + m2 \n",
    "      \n",
    "    if (t1 == t2):  \n",
    "        print(\"Both are same times\") \n",
    "        return \n",
    "    else: \n",
    "          \n",
    "        # calculating the difference \n",
    "        diff = t2-t1 \n",
    "          \n",
    "    # calculating hours from \n",
    "    # difference \n",
    "    h = (int(diff / 60)) % 24\n",
    "      \n",
    "    # calculating minutes from  \n",
    "    # difference \n",
    "    m = diff % 60\n",
    "  \n",
    "    print(h, \":\", m) \n",
    "  \n",
    "# Driver's code \n",
    "if __name__ == \"__main__\": \n",
    "      \n",
    "    difference(7, 20, 9, 45) \n",
    "    difference(15, 23, 18, 54) \n",
    "    difference(16, 20, 16, 20)"
   ]
  },
  {
   "cell_type": "code",
   "execution_count": 91,
   "metadata": {},
   "outputs": [
    {
     "name": "stdout",
     "output_type": "stream",
     "text": [
      "Valid String\n",
      "Invalid String\n"
     ]
    }
   ],
   "source": [
    "# Write a program to Check if String Contain Only Defined Characters using Regex\n",
    "import re \n",
    "  \n",
    "  \n",
    "def check(str, pattern): \n",
    "    \n",
    "    # _matching the strings \n",
    "    if re.search(pattern, str): \n",
    "        print(\"Valid String\") \n",
    "    else: \n",
    "        print(\"Invalid String\") \n",
    "  \n",
    "# _driver code \n",
    "pattern = re.compile('^[1234]+$') \n",
    "check('2134', pattern) \n",
    "check('349', pattern)"
   ]
  },
  {
   "cell_type": "code",
   "execution_count": 92,
   "metadata": {},
   "outputs": [
    {
     "name": "stdout",
     "output_type": "stream",
     "text": [
      "The no. of uppercase characters is 4\n",
      "The no. of lowercase characters is 15\n",
      "The no. of numerical characters is 3\n",
      "The no. of special characters is 4\n"
     ]
    }
   ],
   "source": [
    "# Write a program to Count Uppercase, Lowercase, special character and numeric values using Regex\n",
    "import re \n",
    "  \n",
    "  \n",
    "string = \"ThisIsGeeksforGeeks !, 123\"\n",
    "  \n",
    "# Creating separate lists using  \n",
    "# the re.findall() method. \n",
    "uppercase_characters = re.findall(r\"[A-Z]\", string) \n",
    "lowercase_characters = re.findall(r\"[a-z]\", string) \n",
    "numerical_characters = re.findall(r\"[0-9]\", string) \n",
    "special_characters = re.findall(r\"[, .!?]\", string) \n",
    "  \n",
    "print(\"The no. of uppercase characters is\", len(uppercase_characters)) \n",
    "print(\"The no. of lowercase characters is\", len(lowercase_characters)) \n",
    "print(\"The no. of numerical characters is\", len(numerical_characters)) \n",
    "print(\"The no. of special characters is\", len(special_characters)) "
   ]
  },
  {
   "cell_type": "code",
   "execution_count": 93,
   "metadata": {},
   "outputs": [
    {
     "name": "stdout",
     "output_type": "stream",
     "text": [
      "564\n"
     ]
    }
   ],
   "source": [
    "# Write a program to extract maximum numeric value from a string\n",
    "def extractMax(input): \n",
    "  \n",
    "     # get a list of all numbers separated by  \n",
    "     # lower case characters  \n",
    "     # \\d+ is a regular expression which means \n",
    "     # one or more digit \n",
    "     # output will be like ['100','564','365'] \n",
    "     numbers = re.findall('\\d+',input) \n",
    "  \n",
    "     # now we need to convert each number into integer \n",
    "     # int(string) converts string into integer \n",
    "     # we will map int() function onto all elements  \n",
    "     # of numbers list \n",
    "     numbers = map(int,numbers) \n",
    "  \n",
    "     print(max(numbers) )\n",
    "  \n",
    "# Driver program \n",
    "if __name__ == \"__main__\": \n",
    "    input = '100klh564abc365bg'\n",
    "    extractMax(input) "
   ]
  },
  {
   "cell_type": "code",
   "execution_count": 94,
   "metadata": {},
   "outputs": [],
   "source": [
    "# Write a program to put spaces between words starting with capital letters\n"
   ]
  },
  {
   "cell_type": "code",
   "execution_count": 95,
   "metadata": {},
   "outputs": [
    {
     "name": "stdout",
     "output_type": "stream",
     "text": [
      "bruce wayne is batman\n"
     ]
    }
   ],
   "source": [
    "import re  \n",
    "    \n",
    "def putSpace(input):  \n",
    "    \n",
    "    # regex [A-Z][a-z]* means any string starting   \n",
    "    # with capital character followed by many   \n",
    "    # lowercase letters   \n",
    "    words = re.findall('[A-Z][a-z]*', input)  \n",
    "    \n",
    "    # Change first letter of each word into lower  \n",
    "    # case  \n",
    "    result = []  \n",
    "    for word in words:  \n",
    "        word = chr( ord (word[0]) + 32) + word[1:]  \n",
    "        result.append(word)  \n",
    "    print (' '.join(result))  \n",
    "    \n",
    "# Driver program  \n",
    "if __name__ == \"__main__\":  \n",
    "    input = 'BruceWayneIsBatman'\n",
    "    putSpace(input) # Write a program to"
   ]
  },
  {
   "cell_type": "code",
   "execution_count": 96,
   "metadata": {},
   "outputs": [
    {
     "name": "stdout",
     "output_type": "stream",
     "text": [
      "Valid\n",
      "Valid\n",
      "Invalid\n"
     ]
    }
   ],
   "source": [
    "# Write a program to Check whether a string starts and ends with the same character or not (using Regular Expression)\n",
    "import re \n",
    "  \n",
    "# the regular  expression \n",
    "regex = r'^[a-z]$|^([a-z]).*\\1$'\n",
    "  \n",
    "# function for checking the string \n",
    "def check(string): \n",
    "  \n",
    "    # pass the regualar expression  \n",
    "    # and the string in the search() method  \n",
    "    if(re.search(regex, string)):   \n",
    "        print(\"Valid\")   \n",
    "    else:   \n",
    "        print(\"Invalid\")   \n",
    "  \n",
    "if __name__ == '__main__' : \n",
    "  \n",
    "    sample1 = \"abba\"\n",
    "    sample2 = \"a\"\n",
    "    sample3 = \"abcd\"\n",
    "  \n",
    "    check(sample1) \n",
    "    check(sample2) \n",
    "    check(sample3) "
   ]
  },
  {
   "cell_type": "code",
   "execution_count": 97,
   "metadata": {},
   "outputs": [
    {
     "name": "stdout",
     "output_type": "stream",
     "text": [
      "Yes\n",
      "Yes\n",
      "No\n"
     ]
    }
   ],
   "source": [
    "# Write a program to find sequences of one upper case letter followed by lower case letters\n",
    "import re \n",
    "  \n",
    "# Function to match the string \n",
    "def match(text): \n",
    "          \n",
    "        # regex \n",
    "        pattern = '[A-Z]+[a-z]+$'\n",
    "          \n",
    "        # searching pattern \n",
    "        if re.search(pattern, text): \n",
    "                return('Yes') \n",
    "        else: \n",
    "                return('No') \n",
    "  \n",
    "# Driver Function \n",
    "print(match(\"Geeks\")) \n",
    "print(match(\"geeksforGeeks\")) \n",
    "print(match(\"geeks\"))"
   ]
  },
  {
   "cell_type": "code",
   "execution_count": 98,
   "metadata": {},
   "outputs": [
    {
     "name": "stdout",
     "output_type": "stream",
     "text": [
      "initial string :  123abcjw:, .@! eiw\n",
      "final string 123abcjweiw\n"
     ]
    }
   ],
   "source": [
    "# Write a program to Remove all characters except letters and numbers\n",
    "import re \n",
    "  \n",
    "# initialising string \n",
    "ini_string = \"123abcjw:, .@! eiw\"\n",
    "  \n",
    "# printing initial string \n",
    "print (\"initial string : \", ini_string) \n",
    "  \n",
    "# function to demonstrate removal of characters \n",
    "# which are not numbers and alphabets using re \n",
    "  \n",
    "result = re.sub('[\\W_]+', '', ini_string) \n",
    "  \n",
    "# printing final string \n",
    "print (\"final string\", result) "
   ]
  },
  {
   "cell_type": "code",
   "execution_count": 99,
   "metadata": {},
   "outputs": [
    {
     "name": "stdout",
     "output_type": "stream",
     "text": [
      "Valid\n",
      "Invalid\n",
      "Invalid\n"
     ]
    }
   ],
   "source": [
    "# Write a program to accept string starting with vowel\n",
    "import re \n",
    "  \n",
    "# Make a regular expression \n",
    "# to accept string starting with vowel \n",
    "regex = '^[aeiouAEIOU][A-Za-z0-9_]*'\n",
    "      \n",
    "# Define a function for \n",
    "# accepting string start with vowel \n",
    "def check(string):  \n",
    "  \n",
    "     # pass the regualar expression \n",
    "     # and the string in search() method \n",
    "    if(re.search(regex, string)):  \n",
    "        print(\"Valid\")  \n",
    "          \n",
    "    else:  \n",
    "        print(\"Invalid\")  \n",
    "      \n",
    "  \n",
    "# Driver Code  \n",
    "if __name__ == '__main__' :  \n",
    "      \n",
    "    # Enter the string  \n",
    "    string = \"ankit\"\n",
    "      \n",
    "    # calling run function  \n",
    "    check(string) \n",
    "  \n",
    "    string = \"geeks\"\n",
    "    check(string) \n",
    "  \n",
    "    string = \"sandeep\"\n",
    "    check(string) "
   ]
  },
  {
   "cell_type": "code",
   "execution_count": 100,
   "metadata": {},
   "outputs": [
    {
     "name": "stdout",
     "output_type": "stream",
     "text": [
      "Yes\n"
     ]
    }
   ],
   "source": [
    "# Write a program to Check if an URL is valid or not using Regular Expression\n",
    "import re\n",
    " \n",
    "# Function to validate URL \n",
    "# using regular expression \n",
    "def isValidURL(str):\n",
    " \n",
    "    # Regex to check valid URL \n",
    "    regex = (\"((http|https)://)(www.)?\" +\n",
    "             \"[a-zA-Z0-9@:%._\\\\+~#?&//=]\" +\n",
    "             \"{2,256}\\\\.[a-z]\" +\n",
    "             \"{2,6}\\\\b([-a-zA-Z0-9@:%\" +\n",
    "             \"._\\\\+~#?&//=]*)\")\n",
    "     \n",
    "    # Compile the ReGex\n",
    "    p = re.compile(regex)\n",
    " \n",
    "    # If the string is empty \n",
    "    # return false\n",
    "    if (str == None):\n",
    "        return False\n",
    " \n",
    "    # Return if the string \n",
    "    # matched the ReGex\n",
    "    if(re.search(p, str)):\n",
    "        return True\n",
    "    else:\n",
    "        return False\n",
    " \n",
    "# Driver code\n",
    " \n",
    "# Test Case 1:\n",
    "url = \"https://www.geeksforgeeks.org\"\n",
    " \n",
    "if(isValidURL(url) == True):\n",
    "    print(\"Yes\")\n",
    "else:\n",
    "    print(\"No\")"
   ]
  },
  {
   "cell_type": "code",
   "execution_count": 101,
   "metadata": {},
   "outputs": [
    {
     "name": "stdout",
     "output_type": "stream",
     "text": [
      "['https']\n",
      "['geeksforgeeks.org']\n"
     ]
    }
   ],
   "source": [
    "# Write a program to Parsing and Processing URL using Python – Regex\n",
    "import re   \n",
    "  \n",
    "# url link \n",
    "s = 'https://www.geeksforgeeks.org/'\n",
    "  \n",
    "# finding the protocol  \n",
    "obj1 = re.findall('(\\w+)://', \n",
    "                  s) \n",
    "print(obj1) \n",
    "  \n",
    "# finding the hostname which may \n",
    "# contain dash or dots \n",
    "obj2 = re.findall('://www.([\\w\\-\\.]+)',  \n",
    "                  s) \n",
    "print(obj2)"
   ]
  },
  {
   "cell_type": "code",
   "execution_count": 102,
   "metadata": {},
   "outputs": [
    {
     "name": "stdout",
     "output_type": "stream",
     "text": [
      "Valid IPv4\n",
      "Valid IPv6\n",
      "Invalid IP\n"
     ]
    }
   ],
   "source": [
    "# Write a program to validate an IP address using ReGex\n",
    "import re\n",
    " \n",
    "# Function for Validating IP \n",
    "def Validate_It(IP):\n",
    " \n",
    "    # Regex expression for validating IPv4 \n",
    "    regex = \"(([0-9]|[1-9][0-9]|1[0-9][0-9]|\"\\\n",
    "            \"2[0-4][0-9]|25[0-5])\\\\.){3}\"\\\n",
    "            \"([0-9]|[1-9][0-9]|1[0-9][0-9]|\"\\\n",
    "            \"2[0-4][0-9]|25[0-5])\"\n",
    "     \n",
    "    # Regex expression for validating IPv6 \n",
    "    regex1 = \"((([0-9a-fA-F]){1,4})\\\\:){7}\"\\\n",
    "             \"([0-9a-fA-F]){1,4}\"\n",
    "     \n",
    "    p = re.compile(regex)\n",
    "    p1 = re.compile(regex1)\n",
    " \n",
    "    # Checking if it is a valid IPv4 addresses \n",
    "    if (re.search(p, IP)):\n",
    "        return \"Valid IPv4\"\n",
    " \n",
    "    # Checking if it is a valid IPv6 addresses \n",
    "    elif (re.search(p1, IP)):\n",
    "        return \"Valid IPv6\"\n",
    " \n",
    "    # Return Invalid \n",
    "    return \"Invalid IP\"\n",
    " \n",
    "# Driver Code \n",
    " \n",
    "# IP addresses to validate \n",
    "IP = \"203.120.223.13\"\n",
    "print(Validate_It(IP))\n",
    " \n",
    "IP = \"fffe:3465:efab:23fe:2235:6565:aaab:0001\"\n",
    "print(Validate_It(IP))\n",
    " \n",
    "IP = \"2F33:12a0:3Ea0:0302\"\n",
    "print(Validate_It(IP))"
   ]
  },
  {
   "cell_type": "code",
   "execution_count": 103,
   "metadata": {},
   "outputs": [
    {
     "name": "stdout",
     "output_type": "stream",
     "text": [
      "Valid Email\n",
      "Valid Email\n",
      "Invalid Email\n"
     ]
    }
   ],
   "source": [
    "# Write a program to Check if email address valid or not in Python\n",
    "import re \n",
    "  \n",
    "# Make a regular expression \n",
    "# for validating an Email \n",
    "regex = '^[a-z0-9]+[\\._]?[a-z0-9]+[@]\\w+[.]\\w{2,3}$'\n",
    "# for custom mails use: '^[a-z0-9]+[\\._]?[a-z0-9]+[@]\\w+[.]\\w+$' \n",
    "      \n",
    "# Define a function for \n",
    "# for validating an Email \n",
    "def check(email):  \n",
    "  \n",
    "    # pass the regular expression \n",
    "    # and the string in search() method \n",
    "    if(re.search(regex,email)):  \n",
    "        print(\"Valid Email\")  \n",
    "          \n",
    "    else:  \n",
    "        print(\"Invalid Email\")  \n",
    "      \n",
    "  \n",
    "# Driver Code  \n",
    "if __name__ == '__main__' :  \n",
    "      \n",
    "    # Enter the email  \n",
    "    email = \"ankitrai326@gmail.com\"\n",
    "      \n",
    "    # calling run function  \n",
    "    check(email) \n",
    "  \n",
    "    email = \"my.ownsite@ourearth.org\"\n",
    "    check(email) \n",
    "  \n",
    "    email = \"ankitrai326.com\"\n",
    "    check(email)"
   ]
  },
  {
   "cell_type": "code",
   "execution_count": 104,
   "metadata": {},
   "outputs": [
    {
     "name": "stdout",
     "output_type": "stream",
     "text": [
      "The file ending with .xml is: geeks.xml\n"
     ]
    }
   ],
   "source": [
    "# Write a program to find files having a particular extension using RegEx\n",
    "import re \n",
    "  \n",
    "# list of different types of file \n",
    "filenames = [\"gfg.html\", \"geeks.xml\",  \n",
    "            \"computer.txt\", \"geeksforgeeks.jpg\"] \n",
    "  \n",
    "for file in filenames: \n",
    "    # search given pattern in the line  \n",
    "    match = re.search(\"\\.xml$\", file) \n",
    "  \n",
    "    # if match is found \n",
    "    if match: \n",
    "        print(\"The file ending with .xml is:\", \n",
    "             file) "
   ]
  },
  {
   "cell_type": "code",
   "execution_count": 105,
   "metadata": {},
   "outputs": [
    {
     "name": "stdout",
     "output_type": "stream",
     "text": [
      "Valid Password\n"
     ]
    }
   ],
   "source": [
    "# Write a program to check the validity of a Password\n",
    "import re \n",
    "password = \"R@m@_f0rtu9e$\"\n",
    "flag = 0\n",
    "while True:   \n",
    "    if (len(password)<8): \n",
    "        flag = -1\n",
    "        break\n",
    "    elif not re.search(\"[a-z]\", password): \n",
    "        flag = -1\n",
    "        break\n",
    "    elif not re.search(\"[A-Z]\", password): \n",
    "        flag = -1\n",
    "        break\n",
    "    elif not re.search(\"[0-9]\", password): \n",
    "        flag = -1\n",
    "        break\n",
    "    elif not re.search(\"[_@$]\", password): \n",
    "        flag = -1\n",
    "        break\n",
    "    elif re.search(\"\\s\", password): \n",
    "        flag = -1\n",
    "        break\n",
    "    else: \n",
    "        flag = 0\n",
    "        print(\"Valid Password\") \n",
    "        break\n",
    "  \n",
    "if flag ==-1: \n",
    "    print(\"Not a Valid Password\")"
   ]
  },
  {
   "cell_type": "code",
   "execution_count": 106,
   "metadata": {},
   "outputs": [
    {
     "name": "stdout",
     "output_type": "stream",
     "text": [
      "Strong Password!\n",
      "Weak password: Same string pattern repetition\n",
      "Weak Password: Same character repeats three or more times in a row\n",
      "Weak password: Same string pattern repetition\n",
      "Strong Password!\n",
      "Password cannot be a newline or space!\n"
     ]
    }
   ],
   "source": [
    "# Write a program to Categorize Password as Strong or Weak using Regex in Python\n",
    "import re \n",
    "  \n",
    "  \n",
    "# Function to categorize password \n",
    "def password(v): \n",
    "   \n",
    "    # the password should not be a \n",
    "    # newline or space \n",
    "    if v == \"\\n\" or v == \" \": \n",
    "        return \"Password cannot be a newline or space!\"\n",
    "   \n",
    "    # the password length should be in \n",
    "    # between 9 and 20 \n",
    "    if 9 <= len(v) <= 20: \n",
    "   \n",
    "        # checks for occurrence of a character  \n",
    "        # three or more times in a row \n",
    "        if re.search(r'(.)\\1\\1', v): \n",
    "            return \"Weak Password: Same character repeats three or more times in a row\"\n",
    "   \n",
    "        # checks for occurrence of same string  \n",
    "        # pattern( minimum of two character length) \n",
    "        # repeating \n",
    "        if re.search(r'(..)(.*?)\\1', v): \n",
    "            return \"Weak password: Same string pattern repetition\"\n",
    "   \n",
    "        else: \n",
    "            return \"Strong Password!\"\n",
    "   \n",
    "    else: \n",
    "        return \"Password length must be 9-20 characters!\"\n",
    "  \n",
    "# Main method \n",
    "def main(): \n",
    "   \n",
    "    # Driver code \n",
    "    print(password(\"Qggf!@ghf3\")) \n",
    "    print(password(\"Gggksforgeeks\")) \n",
    "    print(password(\"aaabnil1gu\")) \n",
    "    print(password(\"Aasd!feasn\")) \n",
    "    print(password(\"772*hd897\")) \n",
    "    print(password(\" \")) \n",
    "   \n",
    "   \n",
    "# Driver Code \n",
    "if __name__ == '__main__': \n",
    "    main() "
   ]
  },
  {
   "cell_type": "code",
   "execution_count": 107,
   "metadata": {},
   "outputs": [],
   "source": [
    "# Write a program to reverse the content of a file and store it in another file\n",
    "f1 = open(\"output1.txt\", \"w\")\n",
    " \n",
    "# Open the input file and get \n",
    "# the content into a variable data\n",
    "with open(\"JD.txt\", \"r\") as myfile:\n",
    "    data = myfile.read()\n",
    " \n",
    "# For Full Reversing we will store the \n",
    "# value of data into new variable data_1 \n",
    "# in a reverse order using [start: end: step],\n",
    "# where step when passed -1 will reverse \n",
    "# the string\n",
    "data_1 = data[::-1]\n",
    " \n",
    "# Now we will write the fully reverse \n",
    "# data in the output1 file using \n",
    "# following command\n",
    "f1.write(data_1)\n",
    " \n",
    "f1.close()"
   ]
  },
  {
   "cell_type": "code",
   "execution_count": 108,
   "metadata": {},
   "outputs": [
    {
     "name": "stdout",
     "output_type": "stream",
     "text": [
      "Number of words in text file:  782\n",
      "Number of lines in text file:  70\n",
      "Number of characters in text file:  4778\n",
      "Number of spaces in text file:  724\n"
     ]
    }
   ],
   "source": [
    "def counter(fname): \n",
    "    num_words = 0\n",
    "    num_lines = 0\n",
    "    num_charc = 0\n",
    "    num_spaces = 0\n",
    "    with open(fname, 'r') as f: \n",
    "        for line in f: \n",
    "            num_lines += 1\n",
    "            word = 'Y'\n",
    "            for letter in line: \n",
    "                if (letter != ' ' and word == 'Y'): \n",
    "                    num_words += 1\n",
    "                    word = 'N'\n",
    "                elif (letter == ' '): \n",
    "                    num_spaces += 1\n",
    "                    word = 'Y'\n",
    "                for i in letter: \n",
    "                    if(i !=\" \" and i !=\"\\n\"): \n",
    "                        num_charc += 1\n",
    "    print(\"Number of words in text file: \", num_words) \n",
    "    print(\"Number of lines in text file: \", num_lines) \n",
    "    print('Number of characters in text file: ', num_charc) \n",
    "    print('Number of spaces in text file: ', num_spaces) \n",
    "if __name__ == '__main__':  \n",
    "    fname = 'JD.txt'\n",
    "    try:  \n",
    "        counter(fname)  \n",
    "    except:  \n",
    "        print('File not found')"
   ]
  },
  {
   "cell_type": "code",
   "execution_count": 109,
   "metadata": {},
   "outputs": [],
   "source": [
    "# Write a program to"
   ]
  },
  {
   "cell_type": "code",
   "execution_count": 110,
   "metadata": {},
   "outputs": [],
   "source": [
    "# Write a program to"
   ]
  },
  {
   "cell_type": "code",
   "execution_count": 111,
   "metadata": {},
   "outputs": [],
   "source": [
    "# Write a program to"
   ]
  },
  {
   "cell_type": "code",
   "execution_count": 112,
   "metadata": {},
   "outputs": [],
   "source": [
    "# Write a program to"
   ]
  }
 ],
 "metadata": {
  "kernelspec": {
   "display_name": "Python 3",
   "language": "python",
   "name": "python3"
  },
  "language_info": {
   "codemirror_mode": {
    "name": "ipython",
    "version": 3
   },
   "file_extension": ".py",
   "mimetype": "text/x-python",
   "name": "python",
   "nbconvert_exporter": "python",
   "pygments_lexer": "ipython3",
   "version": "3.7.7"
  }
 },
 "nbformat": 4,
 "nbformat_minor": 4
}
